{
 "cells": [
  {
   "cell_type": "code",
   "execution_count": 1,
   "id": "6b22a777",
   "metadata": {},
   "outputs": [],
   "source": [
    "import numpy as np"
   ]
  },
  {
   "cell_type": "code",
   "execution_count": 2,
   "id": "321e6fd3",
   "metadata": {},
   "outputs": [],
   "source": [
    "a = [2, 5, 7]"
   ]
  },
  {
   "cell_type": "code",
   "execution_count": 3,
   "id": "3f6b4e55",
   "metadata": {},
   "outputs": [],
   "source": [
    "b = [3, 12, 27]"
   ]
  },
  {
   "cell_type": "code",
   "execution_count": 4,
   "id": "3334079d",
   "metadata": {},
   "outputs": [
    {
     "data": {
      "text/plain": [
       "[2, 5, 7, 3, 12, 27]"
      ]
     },
     "execution_count": 4,
     "metadata": {},
     "output_type": "execute_result"
    }
   ],
   "source": [
    "a+b"
   ]
  },
  {
   "cell_type": "code",
   "execution_count": 5,
   "id": "400abe43",
   "metadata": {},
   "outputs": [],
   "source": [
    "c = [m+n for m, n in zip(a,b)]"
   ]
  },
  {
   "cell_type": "code",
   "execution_count": 6,
   "id": "1da29ce4",
   "metadata": {},
   "outputs": [
    {
     "data": {
      "text/plain": [
       "[5, 17, 34]"
      ]
     },
     "execution_count": 6,
     "metadata": {},
     "output_type": "execute_result"
    }
   ],
   "source": [
    "c"
   ]
  },
  {
   "cell_type": "code",
   "execution_count": 7,
   "id": "5f8525c9",
   "metadata": {},
   "outputs": [
    {
     "data": {
      "text/plain": [
       "14"
      ]
     },
     "execution_count": 7,
     "metadata": {},
     "output_type": "execute_result"
    }
   ],
   "source": [
    "sum(a)"
   ]
  },
  {
   "cell_type": "code",
   "execution_count": 8,
   "id": "c3cd1fbc",
   "metadata": {},
   "outputs": [],
   "source": [
    "np_a = np.array(a)"
   ]
  },
  {
   "cell_type": "code",
   "execution_count": 9,
   "id": "a598c170",
   "metadata": {},
   "outputs": [],
   "source": [
    "np_b = np.array(b)"
   ]
  },
  {
   "cell_type": "code",
   "execution_count": 10,
   "id": "f4c2d368",
   "metadata": {},
   "outputs": [
    {
     "data": {
      "text/plain": [
       "array([ 5, 17, 34])"
      ]
     },
     "execution_count": 10,
     "metadata": {},
     "output_type": "execute_result"
    }
   ],
   "source": [
    "np_a + np_b"
   ]
  },
  {
   "cell_type": "code",
   "execution_count": 11,
   "id": "53ea6f88",
   "metadata": {},
   "outputs": [],
   "source": [
    "p = np.array([1,2,\"abc\"])"
   ]
  },
  {
   "cell_type": "code",
   "execution_count": 12,
   "id": "7596c7fc",
   "metadata": {},
   "outputs": [
    {
     "data": {
      "text/plain": [
       "array(['1', '2', 'abc'], dtype='<U11')"
      ]
     },
     "execution_count": 12,
     "metadata": {},
     "output_type": "execute_result"
    }
   ],
   "source": [
    "p"
   ]
  },
  {
   "cell_type": "code",
   "execution_count": 13,
   "id": "2427f9d5",
   "metadata": {},
   "outputs": [
    {
     "ename": "UFuncTypeError",
     "evalue": "ufunc 'add' did not contain a loop with signature matching types (dtype('<U11'), dtype('int32')) -> None",
     "output_type": "error",
     "traceback": [
      "\u001b[1;31m---------------------------------------------------------------------------\u001b[0m",
      "\u001b[1;31mUFuncTypeError\u001b[0m                            Traceback (most recent call last)",
      "Cell \u001b[1;32mIn[13], line 1\u001b[0m\n\u001b[1;32m----> 1\u001b[0m p\u001b[38;5;241m+\u001b[39m np_a\n",
      "\u001b[1;31mUFuncTypeError\u001b[0m: ufunc 'add' did not contain a loop with signature matching types (dtype('<U11'), dtype('int32')) -> None"
     ]
    }
   ],
   "source": [
    "p+ np_a"
   ]
  },
  {
   "cell_type": "code",
   "execution_count": 14,
   "id": "9a9fd1eb",
   "metadata": {},
   "outputs": [
    {
     "data": {
      "text/plain": [
       "7"
      ]
     },
     "execution_count": 14,
     "metadata": {},
     "output_type": "execute_result"
    }
   ],
   "source": [
    "np_a.max()"
   ]
  },
  {
   "cell_type": "code",
   "execution_count": 15,
   "id": "6b20d0cb",
   "metadata": {},
   "outputs": [
    {
     "data": {
      "text/plain": [
       "4.666666666666667"
      ]
     },
     "execution_count": 15,
     "metadata": {},
     "output_type": "execute_result"
    }
   ],
   "source": [
    "np_a.mean()"
   ]
  },
  {
   "cell_type": "code",
   "execution_count": 16,
   "id": "cdb4fb5a",
   "metadata": {},
   "outputs": [
    {
     "data": {
      "text/plain": [
       "array([1., 1., 1.])"
      ]
     },
     "execution_count": 16,
     "metadata": {},
     "output_type": "execute_result"
    }
   ],
   "source": [
    "np.ones(3)"
   ]
  },
  {
   "cell_type": "code",
   "execution_count": 17,
   "id": "2f91e614",
   "metadata": {},
   "outputs": [
    {
     "data": {
      "text/plain": [
       "array([0., 0., 0.])"
      ]
     },
     "execution_count": 17,
     "metadata": {},
     "output_type": "execute_result"
    }
   ],
   "source": [
    "np.zeros(3)"
   ]
  },
  {
   "cell_type": "code",
   "execution_count": 18,
   "id": "0f506dcf",
   "metadata": {},
   "outputs": [
    {
     "data": {
      "text/plain": [
       "array([2., 5., 7.])"
      ]
     },
     "execution_count": 18,
     "metadata": {},
     "output_type": "execute_result"
    }
   ],
   "source": [
    "np_a*np.ones(3)"
   ]
  },
  {
   "cell_type": "code",
   "execution_count": 19,
   "id": "bddabd58",
   "metadata": {},
   "outputs": [
    {
     "data": {
      "text/plain": [
       "array([ 6, 15, 21])"
      ]
     },
     "execution_count": 19,
     "metadata": {},
     "output_type": "execute_result"
    }
   ],
   "source": [
    "np_a*[3]"
   ]
  },
  {
   "cell_type": "code",
   "execution_count": 20,
   "id": "bcfb05a5",
   "metadata": {},
   "outputs": [
    {
     "data": {
      "text/plain": [
       "array([ 4.4, 11. , 15.4])"
      ]
     },
     "execution_count": 20,
     "metadata": {},
     "output_type": "execute_result"
    }
   ],
   "source": [
    "np_a*np.array([2.2])"
   ]
  },
  {
   "cell_type": "code",
   "execution_count": 21,
   "id": "5c2dbd16",
   "metadata": {},
   "outputs": [
    {
     "ename": "ValueError",
     "evalue": "operands could not be broadcast together with shapes (3,) (2,) ",
     "output_type": "error",
     "traceback": [
      "\u001b[1;31m---------------------------------------------------------------------------\u001b[0m",
      "\u001b[1;31mValueError\u001b[0m                                Traceback (most recent call last)",
      "Cell \u001b[1;32mIn[21], line 1\u001b[0m\n\u001b[1;32m----> 1\u001b[0m np_a\u001b[38;5;241m*\u001b[39mnp\u001b[38;5;241m.\u001b[39marray([\u001b[38;5;241m2.2\u001b[39m,\u001b[38;5;241m3.2\u001b[39m])\n",
      "\u001b[1;31mValueError\u001b[0m: operands could not be broadcast together with shapes (3,) (2,) "
     ]
    }
   ],
   "source": [
    "np_a*np.array([2.2,3.2])"
   ]
  },
  {
   "cell_type": "code",
   "execution_count": 22,
   "id": "447c664f",
   "metadata": {},
   "outputs": [
    {
     "data": {
      "text/plain": [
       "5"
      ]
     },
     "execution_count": 22,
     "metadata": {},
     "output_type": "execute_result"
    }
   ],
   "source": [
    "np_a[1]"
   ]
  },
  {
   "cell_type": "code",
   "execution_count": 23,
   "id": "121df768",
   "metadata": {},
   "outputs": [
    {
     "data": {
      "text/plain": [
       "array([5, 7])"
      ]
     },
     "execution_count": 23,
     "metadata": {},
     "output_type": "execute_result"
    }
   ],
   "source": [
    "np_a[1:]"
   ]
  },
  {
   "cell_type": "code",
   "execution_count": 24,
   "id": "b57d393a",
   "metadata": {},
   "outputs": [
    {
     "data": {
      "text/plain": [
       "array([2, 5])"
      ]
     },
     "execution_count": 24,
     "metadata": {},
     "output_type": "execute_result"
    }
   ],
   "source": [
    "np_a[0:2]"
   ]
  },
  {
   "cell_type": "code",
   "execution_count": 25,
   "id": "20a1d70e",
   "metadata": {},
   "outputs": [],
   "source": [
    "np_2d = np.array([[1,2],[3,4]])"
   ]
  },
  {
   "cell_type": "code",
   "execution_count": 26,
   "id": "742f24d3",
   "metadata": {},
   "outputs": [
    {
     "data": {
      "text/plain": [
       "10"
      ]
     },
     "execution_count": 26,
     "metadata": {},
     "output_type": "execute_result"
    }
   ],
   "source": [
    "np_2d.sum()"
   ]
  },
  {
   "cell_type": "code",
   "execution_count": 27,
   "id": "bc4a4677",
   "metadata": {},
   "outputs": [
    {
     "data": {
      "text/plain": [
       "array([4, 6])"
      ]
     },
     "execution_count": 27,
     "metadata": {},
     "output_type": "execute_result"
    }
   ],
   "source": [
    "np_2d.sum(axis=0)"
   ]
  },
  {
   "cell_type": "code",
   "execution_count": 28,
   "id": "82349735",
   "metadata": {},
   "outputs": [
    {
     "data": {
      "text/plain": [
       "array([3, 7])"
      ]
     },
     "execution_count": 28,
     "metadata": {},
     "output_type": "execute_result"
    }
   ],
   "source": [
    "np_2d.sum(axis=1)"
   ]
  },
  {
   "cell_type": "code",
   "execution_count": 29,
   "id": "05b1b764",
   "metadata": {},
   "outputs": [
    {
     "ename": "TypeError",
     "evalue": "'numpy.ndarray' object is not callable",
     "output_type": "error",
     "traceback": [
      "\u001b[1;31m---------------------------------------------------------------------------\u001b[0m",
      "\u001b[1;31mTypeError\u001b[0m                                 Traceback (most recent call last)",
      "Cell \u001b[1;32mIn[29], line 1\u001b[0m\n\u001b[1;32m----> 1\u001b[0m np_2d\u001b[38;5;241m.\u001b[39mT()\n",
      "\u001b[1;31mTypeError\u001b[0m: 'numpy.ndarray' object is not callable"
     ]
    }
   ],
   "source": [
    "np_2d.T()"
   ]
  },
  {
   "cell_type": "code",
   "execution_count": 30,
   "id": "c0bfe2d8",
   "metadata": {},
   "outputs": [
    {
     "data": {
      "text/plain": [
       "array([[1, 3],\n",
       "       [2, 4]])"
      ]
     },
     "execution_count": 30,
     "metadata": {},
     "output_type": "execute_result"
    }
   ],
   "source": [
    "np_2d.T"
   ]
  },
  {
   "cell_type": "code",
   "execution_count": 31,
   "id": "9815b626",
   "metadata": {},
   "outputs": [
    {
     "data": {
      "text/plain": [
       "array([[1., 1.],\n",
       "       [1., 1.]])"
      ]
     },
     "execution_count": 31,
     "metadata": {},
     "output_type": "execute_result"
    }
   ],
   "source": [
    "np.ones([2,2])"
   ]
  },
  {
   "cell_type": "code",
   "execution_count": 32,
   "id": "a2a19ba4",
   "metadata": {},
   "outputs": [
    {
     "data": {
      "text/plain": [
       "array([[1., 0.],\n",
       "       [0., 1.]])"
      ]
     },
     "execution_count": 32,
     "metadata": {},
     "output_type": "execute_result"
    }
   ],
   "source": [
    "np.eye(2)"
   ]
  },
  {
   "cell_type": "code",
   "execution_count": 33,
   "id": "57213d72",
   "metadata": {},
   "outputs": [
    {
     "data": {
      "text/plain": [
       "array([[1, 2],\n",
       "       [3, 4]])"
      ]
     },
     "execution_count": 33,
     "metadata": {},
     "output_type": "execute_result"
    }
   ],
   "source": [
    "np_2d"
   ]
  },
  {
   "cell_type": "code",
   "execution_count": 34,
   "id": "54583779",
   "metadata": {},
   "outputs": [
    {
     "data": {
      "text/plain": [
       "array([[2., 3.],\n",
       "       [4., 5.]])"
      ]
     },
     "execution_count": 34,
     "metadata": {},
     "output_type": "execute_result"
    }
   ],
   "source": [
    "np_2d+np.ones([2,2])"
   ]
  },
  {
   "cell_type": "code",
   "execution_count": 35,
   "id": "87eadd94",
   "metadata": {},
   "outputs": [
    {
     "data": {
      "text/plain": [
       "array([[2., 3.],\n",
       "       [4., 5.]])"
      ]
     },
     "execution_count": 35,
     "metadata": {},
     "output_type": "execute_result"
    }
   ],
   "source": [
    "np_2d+np.ones(2)"
   ]
  },
  {
   "cell_type": "code",
   "execution_count": 36,
   "id": "8d0ca5db",
   "metadata": {},
   "outputs": [
    {
     "data": {
      "text/plain": [
       "array([[2., 3.],\n",
       "       [4., 5.]])"
      ]
     },
     "execution_count": 36,
     "metadata": {},
     "output_type": "execute_result"
    }
   ],
   "source": [
    "np_2d+np.ones([2,1])"
   ]
  },
  {
   "cell_type": "code",
   "execution_count": 37,
   "id": "e19aacc8",
   "metadata": {},
   "outputs": [],
   "source": [
    "np_dotp = np_2d.dot(np.array([[1,10,100],[1000,100,10]]))"
   ]
  },
  {
   "cell_type": "code",
   "execution_count": 38,
   "id": "91cf6331",
   "metadata": {},
   "outputs": [
    {
     "data": {
      "text/plain": [
       "array([[2001,  210,  120],\n",
       "       [4003,  430,  340]])"
      ]
     },
     "execution_count": 38,
     "metadata": {},
     "output_type": "execute_result"
    }
   ],
   "source": [
    "np_dotp"
   ]
  },
  {
   "cell_type": "code",
   "execution_count": 39,
   "id": "98ae8064",
   "metadata": {},
   "outputs": [
    {
     "data": {
      "text/plain": [
       "210"
      ]
     },
     "execution_count": 39,
     "metadata": {},
     "output_type": "execute_result"
    }
   ],
   "source": [
    "np_dotp[0,1]"
   ]
  },
  {
   "cell_type": "code",
   "execution_count": 40,
   "id": "cbc1b40b",
   "metadata": {},
   "outputs": [
    {
     "data": {
      "text/plain": [
       "array([[4003,  430,  340]])"
      ]
     },
     "execution_count": 40,
     "metadata": {},
     "output_type": "execute_result"
    }
   ],
   "source": [
    "np_dotp[1:3]"
   ]
  },
  {
   "cell_type": "code",
   "execution_count": 41,
   "id": "45186705",
   "metadata": {},
   "outputs": [
    {
     "data": {
      "text/plain": [
       "array([2001, 4003])"
      ]
     },
     "execution_count": 41,
     "metadata": {},
     "output_type": "execute_result"
    }
   ],
   "source": [
    "np_dotp[0:2,0]"
   ]
  },
  {
   "cell_type": "code",
   "execution_count": 42,
   "id": "b1c39f6a",
   "metadata": {},
   "outputs": [],
   "source": [
    "np_rs = np.array([1,2,3,4,5,6])"
   ]
  },
  {
   "cell_type": "code",
   "execution_count": 43,
   "id": "f2feaa22",
   "metadata": {},
   "outputs": [
    {
     "data": {
      "text/plain": [
       "array([1, 2, 3, 4, 5, 6])"
      ]
     },
     "execution_count": 43,
     "metadata": {},
     "output_type": "execute_result"
    }
   ],
   "source": [
    "np_rs"
   ]
  },
  {
   "cell_type": "code",
   "execution_count": 44,
   "id": "9800a502",
   "metadata": {},
   "outputs": [
    {
     "data": {
      "text/plain": [
       "array([[1, 2, 3],\n",
       "       [4, 5, 6]])"
      ]
     },
     "execution_count": 44,
     "metadata": {},
     "output_type": "execute_result"
    }
   ],
   "source": [
    "np_rs.reshape(2,3)"
   ]
  },
  {
   "cell_type": "code",
   "execution_count": 45,
   "id": "0dae4fcf",
   "metadata": {},
   "outputs": [
    {
     "data": {
      "text/plain": [
       "array([[1, 2],\n",
       "       [3, 4],\n",
       "       [5, 6]])"
      ]
     },
     "execution_count": 45,
     "metadata": {},
     "output_type": "execute_result"
    }
   ],
   "source": [
    "np_rs.reshape(3,2)"
   ]
  },
  {
   "cell_type": "code",
   "execution_count": 46,
   "id": "d556ffed",
   "metadata": {},
   "outputs": [
    {
     "data": {
      "text/plain": [
       "array([[1, 2],\n",
       "       [3, 4],\n",
       "       [5, 6]])"
      ]
     },
     "execution_count": 46,
     "metadata": {},
     "output_type": "execute_result"
    }
   ],
   "source": [
    "np_rs.reshape(3,-1)"
   ]
  },
  {
   "cell_type": "code",
   "execution_count": 47,
   "id": "db952d1d",
   "metadata": {},
   "outputs": [
    {
     "ename": "ValueError",
     "evalue": "cannot reshape array of size 6 into shape (4,newaxis)",
     "output_type": "error",
     "traceback": [
      "\u001b[1;31m---------------------------------------------------------------------------\u001b[0m",
      "\u001b[1;31mValueError\u001b[0m                                Traceback (most recent call last)",
      "Cell \u001b[1;32mIn[47], line 1\u001b[0m\n\u001b[1;32m----> 1\u001b[0m np_rs\u001b[38;5;241m.\u001b[39mreshape(\u001b[38;5;241m4\u001b[39m,\u001b[38;5;241m-\u001b[39m\u001b[38;5;241m1\u001b[39m)\n",
      "\u001b[1;31mValueError\u001b[0m: cannot reshape array of size 6 into shape (4,newaxis)"
     ]
    }
   ],
   "source": [
    "np_rs.reshape(4,-1)"
   ]
  },
  {
   "cell_type": "code",
   "execution_count": 48,
   "id": "b53c8a9c",
   "metadata": {},
   "outputs": [
    {
     "data": {
      "text/plain": [
       "array([[1, 2, 3],\n",
       "       [4, 5, 6]])"
      ]
     },
     "execution_count": 48,
     "metadata": {},
     "output_type": "execute_result"
    }
   ],
   "source": [
    "np_rs.reshape(2,-1)"
   ]
  },
  {
   "cell_type": "code",
   "execution_count": 49,
   "id": "d1d8816c",
   "metadata": {},
   "outputs": [
    {
     "ename": "ValueError",
     "evalue": "cannot reshape array of size 6 into shape (2,2,newaxis)",
     "output_type": "error",
     "traceback": [
      "\u001b[1;31m---------------------------------------------------------------------------\u001b[0m",
      "\u001b[1;31mValueError\u001b[0m                                Traceback (most recent call last)",
      "Cell \u001b[1;32mIn[49], line 1\u001b[0m\n\u001b[1;32m----> 1\u001b[0m np_rs\u001b[38;5;241m.\u001b[39mreshape(\u001b[38;5;241m2\u001b[39m,\u001b[38;5;241m2\u001b[39m,\u001b[38;5;241m-\u001b[39m\u001b[38;5;241m1\u001b[39m)\n",
      "\u001b[1;31mValueError\u001b[0m: cannot reshape array of size 6 into shape (2,2,newaxis)"
     ]
    }
   ],
   "source": [
    "np_rs.reshape(2,2,-1)"
   ]
  },
  {
   "cell_type": "code",
   "execution_count": 50,
   "id": "47ded2fd",
   "metadata": {},
   "outputs": [
    {
     "data": {
      "text/plain": [
       "array([[1, 2, 3],\n",
       "       [4, 5, 6]])"
      ]
     },
     "execution_count": 50,
     "metadata": {},
     "output_type": "execute_result"
    }
   ],
   "source": [
    "np_rs.reshape(-1,3)"
   ]
  },
  {
   "cell_type": "code",
   "execution_count": 51,
   "id": "f552302c",
   "metadata": {},
   "outputs": [
    {
     "ename": "TypeError",
     "evalue": "'module' object is not callable",
     "output_type": "error",
     "traceback": [
      "\u001b[1;31m---------------------------------------------------------------------------\u001b[0m",
      "\u001b[1;31mTypeError\u001b[0m                                 Traceback (most recent call last)",
      "Cell \u001b[1;32mIn[51], line 1\u001b[0m\n\u001b[1;32m----> 1\u001b[0m np\u001b[38;5;241m.\u001b[39mrandom(\u001b[38;5;241m2\u001b[39m)\n",
      "\u001b[1;31mTypeError\u001b[0m: 'module' object is not callable"
     ]
    }
   ],
   "source": [
    "np.random(2)"
   ]
  },
  {
   "cell_type": "code",
   "execution_count": 52,
   "id": "41fb9382",
   "metadata": {},
   "outputs": [
    {
     "data": {
      "text/plain": [
       "array([0.75059268, 0.91290276])"
      ]
     },
     "execution_count": 52,
     "metadata": {},
     "output_type": "execute_result"
    }
   ],
   "source": [
    "np.random.random(2)"
   ]
  },
  {
   "cell_type": "code",
   "execution_count": 53,
   "id": "153b11b5",
   "metadata": {},
   "outputs": [
    {
     "ename": "ModuleNotFoundError",
     "evalue": "No module named 'np'",
     "output_type": "error",
     "traceback": [
      "\u001b[1;31m---------------------------------------------------------------------------\u001b[0m",
      "\u001b[1;31mModuleNotFoundError\u001b[0m                       Traceback (most recent call last)",
      "Cell \u001b[1;32mIn[53], line 1\u001b[0m\n\u001b[1;32m----> 1\u001b[0m \u001b[38;5;28;01mimport\u001b[39;00m \u001b[38;5;21;01mnp\u001b[39;00m\u001b[38;5;21;01m.\u001b[39;00m\u001b[38;5;21;01mrandom\u001b[39;00m \u001b[38;5;28;01mas\u001b[39;00m \u001b[38;5;21;01mrandom\u001b[39;00m\n",
      "\u001b[1;31mModuleNotFoundError\u001b[0m: No module named 'np'"
     ]
    }
   ],
   "source": [
    "import np.random as random"
   ]
  },
  {
   "cell_type": "code",
   "execution_count": 54,
   "id": "f14c1645",
   "metadata": {},
   "outputs": [],
   "source": [
    "import numpy.random as random"
   ]
  },
  {
   "cell_type": "code",
   "execution_count": 55,
   "id": "12b02be0",
   "metadata": {},
   "outputs": [
    {
     "ename": "TypeError",
     "evalue": "'module' object is not callable",
     "output_type": "error",
     "traceback": [
      "\u001b[1;31m---------------------------------------------------------------------------\u001b[0m",
      "\u001b[1;31mTypeError\u001b[0m                                 Traceback (most recent call last)",
      "Cell \u001b[1;32mIn[55], line 1\u001b[0m\n\u001b[1;32m----> 1\u001b[0m random(\u001b[38;5;241m2\u001b[39m)\n",
      "\u001b[1;31mTypeError\u001b[0m: 'module' object is not callable"
     ]
    }
   ],
   "source": [
    "random(2)"
   ]
  },
  {
   "cell_type": "code",
   "execution_count": 56,
   "id": "29fd7c12",
   "metadata": {},
   "outputs": [
    {
     "data": {
      "text/plain": [
       "array([0.98347012, 0.92416756])"
      ]
     },
     "execution_count": 56,
     "metadata": {},
     "output_type": "execute_result"
    }
   ],
   "source": [
    "random.random(2)"
   ]
  },
  {
   "cell_type": "code",
   "execution_count": 57,
   "id": "50e77f01",
   "metadata": {},
   "outputs": [
    {
     "data": {
      "text/plain": [
       "array([[0.63641807, 0.96683306],\n",
       "       [0.17219449, 0.46682365],\n",
       "       [0.1991905 , 0.91502523]])"
      ]
     },
     "execution_count": 57,
     "metadata": {},
     "output_type": "execute_result"
    }
   ],
   "source": [
    "random.random([3,2])"
   ]
  },
  {
   "cell_type": "code",
   "execution_count": 58,
   "id": "5be6ad52",
   "metadata": {},
   "outputs": [],
   "source": [
    "import numpy.linalg as la"
   ]
  },
  {
   "cell_type": "code",
   "execution_count": 59,
   "id": "c91badea",
   "metadata": {},
   "outputs": [
    {
     "data": {
      "text/plain": [
       "array([[-2. ,  1. ],\n",
       "       [ 1.5, -0.5]])"
      ]
     },
     "execution_count": 59,
     "metadata": {},
     "output_type": "execute_result"
    }
   ],
   "source": [
    "la.inv(np_2d)"
   ]
  },
  {
   "cell_type": "code",
   "execution_count": 60,
   "id": "190d9150",
   "metadata": {},
   "outputs": [
    {
     "data": {
      "text/plain": [
       "EigResult(eigenvalues=array([-0.37228132,  5.37228132]), eigenvectors=array([[-0.82456484, -0.41597356],\n",
       "       [ 0.56576746, -0.90937671]]))"
      ]
     },
     "execution_count": 60,
     "metadata": {},
     "output_type": "execute_result"
    }
   ],
   "source": [
    "la.eig(np_2d)"
   ]
  },
  {
   "cell_type": "code",
   "execution_count": 61,
   "id": "2e922a01",
   "metadata": {},
   "outputs": [
    {
     "data": {
      "text/plain": [
       "SVDResult(U=array([[-0.40455358, -0.9145143 ],\n",
       "       [-0.9145143 ,  0.40455358]]), S=array([5.4649857 , 0.36596619]), Vh=array([[-0.57604844, -0.81741556],\n",
       "       [ 0.81741556, -0.57604844]]))"
      ]
     },
     "execution_count": 61,
     "metadata": {},
     "output_type": "execute_result"
    }
   ],
   "source": [
    "la.svd(np_2d)"
   ]
  },
  {
   "cell_type": "code",
   "execution_count": 62,
   "id": "a441edcb",
   "metadata": {},
   "outputs": [
    {
     "data": {
      "text/plain": [
       "array([[-2. ,  1. ],\n",
       "       [ 1.5, -0.5]])"
      ]
     },
     "execution_count": 62,
     "metadata": {},
     "output_type": "execute_result"
    }
   ],
   "source": [
    "la.pinv(np_2d)"
   ]
  },
  {
   "cell_type": "code",
   "execution_count": 63,
   "id": "0b049bfc",
   "metadata": {},
   "outputs": [
    {
     "data": {
      "text/plain": [
       "array([[4.63228606, 3.353759  , 0.90236787],\n",
       "       [4.18197487, 1.9640273 , 3.34183684]])"
      ]
     },
     "execution_count": 63,
     "metadata": {},
     "output_type": "execute_result"
    }
   ],
   "source": [
    "random.rand(2,3)*5"
   ]
  },
  {
   "cell_type": "code",
   "execution_count": 64,
   "id": "6c0ec0e3",
   "metadata": {},
   "outputs": [
    {
     "data": {
      "text/plain": [
       "array([[-0.38716334,  0.82208495, -0.17258049],\n",
       "       [ 2.59882948, -0.34561434, -0.98823199]])"
      ]
     },
     "execution_count": 64,
     "metadata": {},
     "output_type": "execute_result"
    }
   ],
   "source": [
    "random.randn(2,3)"
   ]
  },
  {
   "cell_type": "raw",
   "id": "9a427a24",
   "metadata": {},
   "source": [
    "random.randint(-2,5,3)"
   ]
  },
  {
   "cell_type": "code",
   "execution_count": 65,
   "id": "2a7e897a",
   "metadata": {},
   "outputs": [
    {
     "data": {
      "text/plain": [
       "array([ 0, -2, -1,  1,  2])"
      ]
     },
     "execution_count": 65,
     "metadata": {},
     "output_type": "execute_result"
    }
   ],
   "source": [
    "random.randint(-2,3,5)"
   ]
  },
  {
   "cell_type": "code",
   "execution_count": 66,
   "id": "52b331b2",
   "metadata": {},
   "outputs": [],
   "source": [
    "random.shuffle(np_rs)"
   ]
  },
  {
   "cell_type": "code",
   "execution_count": 67,
   "id": "cee749c4",
   "metadata": {},
   "outputs": [
    {
     "data": {
      "text/plain": [
       "array([3, 2, 6, 5, 1, 4])"
      ]
     },
     "execution_count": 67,
     "metadata": {},
     "output_type": "execute_result"
    }
   ],
   "source": [
    "np_rs"
   ]
  },
  {
   "cell_type": "code",
   "execution_count": 68,
   "id": "53d0e965",
   "metadata": {},
   "outputs": [
    {
     "data": {
      "text/plain": [
       "array([6, 3])"
      ]
     },
     "execution_count": 68,
     "metadata": {},
     "output_type": "execute_result"
    }
   ],
   "source": [
    "random.choice(np_rs, 2)"
   ]
  },
  {
   "cell_type": "code",
   "execution_count": 69,
   "id": "60f3d510",
   "metadata": {},
   "outputs": [
    {
     "data": {
      "text/plain": [
       "6"
      ]
     },
     "execution_count": 69,
     "metadata": {},
     "output_type": "execute_result"
    }
   ],
   "source": [
    "random.binomial(20,0.3)"
   ]
  },
  {
   "cell_type": "code",
   "execution_count": 70,
   "id": "f581cef6",
   "metadata": {},
   "outputs": [
    {
     "data": {
      "text/plain": [
       "array([5, 5, 2, 7, 5, 8, 5])"
      ]
     },
     "execution_count": 70,
     "metadata": {},
     "output_type": "execute_result"
    }
   ],
   "source": [
    "random.binomial(20, 0.3, 7)"
   ]
  },
  {
   "cell_type": "code",
   "execution_count": 71,
   "id": "316e609a",
   "metadata": {},
   "outputs": [
    {
     "data": {
      "text/plain": [
       "array([0.28267082, 1.60008884, 0.09383315, 1.30497581])"
      ]
     },
     "execution_count": 71,
     "metadata": {},
     "output_type": "execute_result"
    }
   ],
   "source": [
    "random.exponential(0.7,4)"
   ]
  },
  {
   "cell_type": "code",
   "execution_count": 72,
   "id": "c3c3da6e",
   "metadata": {},
   "outputs": [
    {
     "name": "stderr",
     "output_type": "stream",
     "text": [
      "UsageError: %%time is a cell magic, but the cell body is empty. Did you mean the line magic %time (single %)?\n"
     ]
    }
   ],
   "source": [
    "%%time\n"
   ]
  },
  {
   "cell_type": "code",
   "execution_count": 73,
   "id": "0df740eb",
   "metadata": {},
   "outputs": [
    {
     "data": {
      "text/plain": [
       "array([ -1.44826554,  13.72827953, -10.21586284])"
      ]
     },
     "execution_count": 73,
     "metadata": {},
     "output_type": "execute_result"
    }
   ],
   "source": [
    "random.normal(-5,12,3)"
   ]
  },
  {
   "cell_type": "code",
   "execution_count": 74,
   "id": "ae4df0fe",
   "metadata": {},
   "outputs": [
    {
     "data": {
      "text/plain": [
       "array([  4.63870623, -14.82457773,  14.18221348,  -4.95462841,\n",
       "        -1.94369526, -14.01098271,  -1.98941352])"
      ]
     },
     "execution_count": 74,
     "metadata": {},
     "output_type": "execute_result"
    }
   ],
   "source": [
    "random.logistic(-2,4,7)"
   ]
  },
  {
   "cell_type": "code",
   "execution_count": 75,
   "id": "197bd554",
   "metadata": {},
   "outputs": [
    {
     "data": {
      "text/plain": [
       "(2, 2)"
      ]
     },
     "execution_count": 75,
     "metadata": {},
     "output_type": "execute_result"
    }
   ],
   "source": [
    "np_2d.shape"
   ]
  },
  {
   "cell_type": "code",
   "execution_count": 76,
   "id": "2f09cee7",
   "metadata": {},
   "outputs": [
    {
     "data": {
      "text/plain": [
       "dtype('int32')"
      ]
     },
     "execution_count": 76,
     "metadata": {},
     "output_type": "execute_result"
    }
   ],
   "source": [
    "np_2d.dtype"
   ]
  },
  {
   "cell_type": "code",
   "execution_count": 77,
   "id": "68058276",
   "metadata": {},
   "outputs": [
    {
     "data": {
      "text/plain": [
       "numpy.ndarray"
      ]
     },
     "execution_count": 77,
     "metadata": {},
     "output_type": "execute_result"
    }
   ],
   "source": [
    "type(np_2d)"
   ]
  },
  {
   "cell_type": "code",
   "execution_count": 78,
   "id": "188f8626",
   "metadata": {},
   "outputs": [
    {
     "data": {
      "text/plain": [
       "array([[1., 1.],\n",
       "       [1., 1.]])"
      ]
     },
     "execution_count": 78,
     "metadata": {},
     "output_type": "execute_result"
    }
   ],
   "source": [
    "np.vstack(np.ones([2,2]))"
   ]
  },
  {
   "cell_type": "code",
   "execution_count": 79,
   "id": "1c81dfac",
   "metadata": {},
   "outputs": [
    {
     "data": {
      "text/plain": [
       "array([[1., 2.],\n",
       "       [3., 4.],\n",
       "       [1., 1.],\n",
       "       [1., 1.]])"
      ]
     },
     "execution_count": 79,
     "metadata": {},
     "output_type": "execute_result"
    }
   ],
   "source": [
    "np.vstack((np_2d,np.ones([2,2])))"
   ]
  },
  {
   "cell_type": "code",
   "execution_count": 80,
   "id": "190dfbcf",
   "metadata": {},
   "outputs": [
    {
     "data": {
      "text/plain": [
       "array([[1., 2., 1., 1.],\n",
       "       [3., 4., 1., 1.]])"
      ]
     },
     "execution_count": 80,
     "metadata": {},
     "output_type": "execute_result"
    }
   ],
   "source": [
    "np.hstack((np_2d,np.ones([2,2])))"
   ]
  },
  {
   "cell_type": "code",
   "execution_count": 81,
   "id": "8cac5e59",
   "metadata": {},
   "outputs": [],
   "source": [
    "N=10000000\n",
    "x=list(range(N))\n",
    "y=list(range(N)) \n",
    "z=[]"
   ]
  },
  {
   "cell_type": "code",
   "execution_count": 82,
   "id": "eaf5a569",
   "metadata": {},
   "outputs": [],
   "source": [
    "np_x = np.array(x)\n",
    "np_y = np.array(y)"
   ]
  },
  {
   "cell_type": "code",
   "execution_count": 83,
   "id": "815dcb98",
   "metadata": {},
   "outputs": [
    {
     "name": "stdout",
     "output_type": "stream",
     "text": [
      "CPU times: total: 984 ms\n",
      "Wall time: 1.03 s\n"
     ]
    }
   ],
   "source": [
    "%%time\n",
    "for i in range(len(x)):\n",
    "    z.append(x[i]+y[i])\n"
   ]
  },
  {
   "cell_type": "code",
   "execution_count": 84,
   "id": "42adb9fa",
   "metadata": {},
   "outputs": [
    {
     "name": "stdout",
     "output_type": "stream",
     "text": [
      "CPU times: total: 0 ns\n",
      "Wall time: 6.87 ms\n"
     ]
    }
   ],
   "source": [
    "%%time\n",
    "np_z = np_x+np_y"
   ]
  },
  {
   "cell_type": "markdown",
   "id": "5a028a6a-2013-4a14-b7b3-f6325bb98924",
   "metadata": {},
   "source": [
    "Newton Method\n",
    "Perform this matrix computation -> ((X'X)^-1)*X'y, use only X and y values from rows 2 to 41\n",
    "Error Computation (both Training and Test Error)\n",
    "Generate y values from the new generated w values\n",
    "Compute the SSR, MSR and RMSE between the generated y values and the actual values both for the data from rows 2 to 41 and the data from rows 43 to 51\n",
    "Regularized Newton\n",
    "Next step perform the matrix computation -> ((X'X+lambda*I)^-1)*X'y, using only X and y values from rows 2 to 41\n",
    "Use lambda as 0.17\n",
    "Compute and report both training and test errors for the regularized newton computation\n",
    "Compute R-squared values for both Newton and Regularized Newton on both train and test datasets\n",
    "Look up how to compute R-squared values in excel\n",
    "Let's try some more things\n",
    "For each of the below report the following, MSR on train, MSR on test, R-squared on train and R-squared on test\n",
    "1. Use only rows 2 to 41 for training and rows 42 to 51 for testing and lambda as 0.83\n",
    "2. Use only rows 2 to 26 for training and rows 27 to 51 for testing and lambda as 0.17\n",
    "3. Use only rows 2 to 26 for training and rows 27 to 51 for testing and lambda as 0.83\n",
    "4. Use only rows 2 to 11 for training and rows 12 to 51 for testing and lambda as 0.17\n",
    "5. Use only rows 2 to 11 for training and rows 12 to 51 for testing and lambda as 0.83\n"
   ]
  },
  {
   "cell_type": "code",
   "execution_count": 106,
   "id": "5b4fd562",
   "metadata": {},
   "outputs": [
    {
     "data": {
      "text/html": [
       "<div>\n",
       "<style scoped>\n",
       "    .dataframe tbody tr th:only-of-type {\n",
       "        vertical-align: middle;\n",
       "    }\n",
       "\n",
       "    .dataframe tbody tr th {\n",
       "        vertical-align: top;\n",
       "    }\n",
       "\n",
       "    .dataframe thead th {\n",
       "        text-align: right;\n",
       "    }\n",
       "</style>\n",
       "<table border=\"1\" class=\"dataframe\">\n",
       "  <thead>\n",
       "    <tr style=\"text-align: right;\">\n",
       "      <th></th>\n",
       "      <th>X0</th>\n",
       "      <th>X1</th>\n",
       "      <th>X2</th>\n",
       "      <th>X3</th>\n",
       "      <th>X4</th>\n",
       "      <th>X5</th>\n",
       "      <th>y</th>\n",
       "      <th>Unnamed: 7</th>\n",
       "      <th>Unnamed: 8</th>\n",
       "      <th>Unnamed: 9</th>\n",
       "      <th>Unnamed: 10</th>\n",
       "    </tr>\n",
       "  </thead>\n",
       "  <tbody>\n",
       "    <tr>\n",
       "      <th>0</th>\n",
       "      <td>1</td>\n",
       "      <td>5.768</td>\n",
       "      <td>62.55</td>\n",
       "      <td>0</td>\n",
       "      <td>28</td>\n",
       "      <td>2.6</td>\n",
       "      <td>28</td>\n",
       "      <td>NaN</td>\n",
       "      <td>NaN</td>\n",
       "      <td>NaN</td>\n",
       "      <td>NaN</td>\n",
       "    </tr>\n",
       "    <tr>\n",
       "      <th>1</th>\n",
       "      <td>1</td>\n",
       "      <td>8.949</td>\n",
       "      <td>66.91</td>\n",
       "      <td>0</td>\n",
       "      <td>27</td>\n",
       "      <td>-2.0</td>\n",
       "      <td>46</td>\n",
       "      <td>NaN</td>\n",
       "      <td>NaN</td>\n",
       "      <td>NaN</td>\n",
       "      <td>NaN</td>\n",
       "    </tr>\n",
       "    <tr>\n",
       "      <th>2</th>\n",
       "      <td>1</td>\n",
       "      <td>1.024</td>\n",
       "      <td>34.42</td>\n",
       "      <td>0</td>\n",
       "      <td>20</td>\n",
       "      <td>-3.4</td>\n",
       "      <td>14</td>\n",
       "      <td>NaN</td>\n",
       "      <td>NaN</td>\n",
       "      <td>NaN</td>\n",
       "      <td>NaN</td>\n",
       "    </tr>\n",
       "    <tr>\n",
       "      <th>3</th>\n",
       "      <td>1</td>\n",
       "      <td>4.534</td>\n",
       "      <td>47.93</td>\n",
       "      <td>0</td>\n",
       "      <td>10</td>\n",
       "      <td>1.1</td>\n",
       "      <td>17</td>\n",
       "      <td>NaN</td>\n",
       "      <td>NaN</td>\n",
       "      <td>NaN</td>\n",
       "      <td>NaN</td>\n",
       "    </tr>\n",
       "    <tr>\n",
       "      <th>4</th>\n",
       "      <td>1</td>\n",
       "      <td>8.641</td>\n",
       "      <td>35.26</td>\n",
       "      <td>0</td>\n",
       "      <td>30</td>\n",
       "      <td>3.8</td>\n",
       "      <td>32</td>\n",
       "      <td>NaN</td>\n",
       "      <td>NaN</td>\n",
       "      <td>NaN</td>\n",
       "      <td>NaN</td>\n",
       "    </tr>\n",
       "    <tr>\n",
       "      <th>5</th>\n",
       "      <td>1</td>\n",
       "      <td>1.063</td>\n",
       "      <td>42.14</td>\n",
       "      <td>0</td>\n",
       "      <td>6</td>\n",
       "      <td>-2.1</td>\n",
       "      <td>8</td>\n",
       "      <td>NaN</td>\n",
       "      <td>NaN</td>\n",
       "      <td>NaN</td>\n",
       "      <td>NaN</td>\n",
       "    </tr>\n",
       "    <tr>\n",
       "      <th>6</th>\n",
       "      <td>1</td>\n",
       "      <td>5.306</td>\n",
       "      <td>39.80</td>\n",
       "      <td>0</td>\n",
       "      <td>29</td>\n",
       "      <td>-1.8</td>\n",
       "      <td>30</td>\n",
       "      <td>NaN</td>\n",
       "      <td>NaN</td>\n",
       "      <td>NaN</td>\n",
       "      <td>NaN</td>\n",
       "    </tr>\n",
       "    <tr>\n",
       "      <th>7</th>\n",
       "      <td>1</td>\n",
       "      <td>4.309</td>\n",
       "      <td>36.14</td>\n",
       "      <td>0</td>\n",
       "      <td>12</td>\n",
       "      <td>-3.4</td>\n",
       "      <td>22</td>\n",
       "      <td>NaN</td>\n",
       "      <td>NaN</td>\n",
       "      <td>NaN</td>\n",
       "      <td>NaN</td>\n",
       "    </tr>\n",
       "    <tr>\n",
       "      <th>8</th>\n",
       "      <td>1</td>\n",
       "      <td>3.739</td>\n",
       "      <td>44.53</td>\n",
       "      <td>0</td>\n",
       "      <td>39</td>\n",
       "      <td>1.9</td>\n",
       "      <td>24</td>\n",
       "      <td>NaN</td>\n",
       "      <td>NaN</td>\n",
       "      <td>NaN</td>\n",
       "      <td>NaN</td>\n",
       "    </tr>\n",
       "    <tr>\n",
       "      <th>9</th>\n",
       "      <td>1</td>\n",
       "      <td>3.816</td>\n",
       "      <td>60.01</td>\n",
       "      <td>0</td>\n",
       "      <td>10</td>\n",
       "      <td>-3.4</td>\n",
       "      <td>24</td>\n",
       "      <td>NaN</td>\n",
       "      <td>NaN</td>\n",
       "      <td>NaN</td>\n",
       "      <td>NaN</td>\n",
       "    </tr>\n",
       "    <tr>\n",
       "      <th>10</th>\n",
       "      <td>1</td>\n",
       "      <td>8.539</td>\n",
       "      <td>36.90</td>\n",
       "      <td>0</td>\n",
       "      <td>31</td>\n",
       "      <td>-3.0</td>\n",
       "      <td>43</td>\n",
       "      <td>NaN</td>\n",
       "      <td>NaN</td>\n",
       "      <td>NaN</td>\n",
       "      <td>NaN</td>\n",
       "    </tr>\n",
       "    <tr>\n",
       "      <th>11</th>\n",
       "      <td>1</td>\n",
       "      <td>7.129</td>\n",
       "      <td>35.77</td>\n",
       "      <td>0</td>\n",
       "      <td>38</td>\n",
       "      <td>3.5</td>\n",
       "      <td>30</td>\n",
       "      <td>NaN</td>\n",
       "      <td>NaN</td>\n",
       "      <td>NaN</td>\n",
       "      <td>NaN</td>\n",
       "    </tr>\n",
       "    <tr>\n",
       "      <th>12</th>\n",
       "      <td>1</td>\n",
       "      <td>4.249</td>\n",
       "      <td>37.17</td>\n",
       "      <td>0</td>\n",
       "      <td>23</td>\n",
       "      <td>0.8</td>\n",
       "      <td>20</td>\n",
       "      <td>NaN</td>\n",
       "      <td>NaN</td>\n",
       "      <td>NaN</td>\n",
       "      <td>NaN</td>\n",
       "    </tr>\n",
       "    <tr>\n",
       "      <th>13</th>\n",
       "      <td>1</td>\n",
       "      <td>-2.990</td>\n",
       "      <td>42.41</td>\n",
       "      <td>0</td>\n",
       "      <td>20</td>\n",
       "      <td>-3.1</td>\n",
       "      <td>2</td>\n",
       "      <td>NaN</td>\n",
       "      <td>NaN</td>\n",
       "      <td>NaN</td>\n",
       "      <td>NaN</td>\n",
       "    </tr>\n",
       "    <tr>\n",
       "      <th>14</th>\n",
       "      <td>1</td>\n",
       "      <td>0.356</td>\n",
       "      <td>57.67</td>\n",
       "      <td>0</td>\n",
       "      <td>26</td>\n",
       "      <td>-3.8</td>\n",
       "      <td>19</td>\n",
       "      <td>NaN</td>\n",
       "      <td>NaN</td>\n",
       "      <td>NaN</td>\n",
       "      <td>NaN</td>\n",
       "    </tr>\n",
       "    <tr>\n",
       "      <th>15</th>\n",
       "      <td>1</td>\n",
       "      <td>5.487</td>\n",
       "      <td>35.25</td>\n",
       "      <td>0</td>\n",
       "      <td>10</td>\n",
       "      <td>-2.8</td>\n",
       "      <td>24</td>\n",
       "      <td>NaN</td>\n",
       "      <td>NaN</td>\n",
       "      <td>NaN</td>\n",
       "      <td>NaN</td>\n",
       "    </tr>\n",
       "    <tr>\n",
       "      <th>16</th>\n",
       "      <td>1</td>\n",
       "      <td>5.699</td>\n",
       "      <td>62.15</td>\n",
       "      <td>0</td>\n",
       "      <td>13</td>\n",
       "      <td>2.4</td>\n",
       "      <td>22</td>\n",
       "      <td>NaN</td>\n",
       "      <td>NaN</td>\n",
       "      <td>NaN</td>\n",
       "      <td>NaN</td>\n",
       "    </tr>\n",
       "    <tr>\n",
       "      <th>17</th>\n",
       "      <td>1</td>\n",
       "      <td>-0.373</td>\n",
       "      <td>38.38</td>\n",
       "      <td>1</td>\n",
       "      <td>42</td>\n",
       "      <td>2.0</td>\n",
       "      <td>23</td>\n",
       "      <td>NaN</td>\n",
       "      <td>NaN</td>\n",
       "      <td>NaN</td>\n",
       "      <td>NaN</td>\n",
       "    </tr>\n",
       "    <tr>\n",
       "      <th>18</th>\n",
       "      <td>1</td>\n",
       "      <td>3.900</td>\n",
       "      <td>40.53</td>\n",
       "      <td>0</td>\n",
       "      <td>23</td>\n",
       "      <td>-2.5</td>\n",
       "      <td>25</td>\n",
       "      <td>NaN</td>\n",
       "      <td>NaN</td>\n",
       "      <td>NaN</td>\n",
       "      <td>NaN</td>\n",
       "    </tr>\n",
       "    <tr>\n",
       "      <th>19</th>\n",
       "      <td>1</td>\n",
       "      <td>3.616</td>\n",
       "      <td>35.91</td>\n",
       "      <td>1</td>\n",
       "      <td>16</td>\n",
       "      <td>3.1</td>\n",
       "      <td>23</td>\n",
       "      <td>NaN</td>\n",
       "      <td>NaN</td>\n",
       "      <td>NaN</td>\n",
       "      <td>NaN</td>\n",
       "    </tr>\n",
       "    <tr>\n",
       "      <th>20</th>\n",
       "      <td>1</td>\n",
       "      <td>9.103</td>\n",
       "      <td>59.60</td>\n",
       "      <td>0</td>\n",
       "      <td>14</td>\n",
       "      <td>2.2</td>\n",
       "      <td>34</td>\n",
       "      <td>NaN</td>\n",
       "      <td>NaN</td>\n",
       "      <td>NaN</td>\n",
       "      <td>NaN</td>\n",
       "    </tr>\n",
       "    <tr>\n",
       "      <th>21</th>\n",
       "      <td>1</td>\n",
       "      <td>2.714</td>\n",
       "      <td>43.54</td>\n",
       "      <td>0</td>\n",
       "      <td>37</td>\n",
       "      <td>2.1</td>\n",
       "      <td>19</td>\n",
       "      <td>NaN</td>\n",
       "      <td>NaN</td>\n",
       "      <td>NaN</td>\n",
       "      <td>NaN</td>\n",
       "    </tr>\n",
       "    <tr>\n",
       "      <th>22</th>\n",
       "      <td>1</td>\n",
       "      <td>6.885</td>\n",
       "      <td>35.66</td>\n",
       "      <td>1</td>\n",
       "      <td>20</td>\n",
       "      <td>-3.7</td>\n",
       "      <td>46</td>\n",
       "      <td>NaN</td>\n",
       "      <td>NaN</td>\n",
       "      <td>NaN</td>\n",
       "      <td>NaN</td>\n",
       "    </tr>\n",
       "    <tr>\n",
       "      <th>23</th>\n",
       "      <td>1</td>\n",
       "      <td>-0.850</td>\n",
       "      <td>43.94</td>\n",
       "      <td>1</td>\n",
       "      <td>31</td>\n",
       "      <td>-3.2</td>\n",
       "      <td>26</td>\n",
       "      <td>NaN</td>\n",
       "      <td>NaN</td>\n",
       "      <td>NaN</td>\n",
       "      <td>NaN</td>\n",
       "    </tr>\n",
       "    <tr>\n",
       "      <th>24</th>\n",
       "      <td>1</td>\n",
       "      <td>5.511</td>\n",
       "      <td>58.96</td>\n",
       "      <td>0</td>\n",
       "      <td>6</td>\n",
       "      <td>-3.8</td>\n",
       "      <td>28</td>\n",
       "      <td>NaN</td>\n",
       "      <td>NaN</td>\n",
       "      <td>NaN</td>\n",
       "      <td>NaN</td>\n",
       "    </tr>\n",
       "    <tr>\n",
       "      <th>25</th>\n",
       "      <td>1</td>\n",
       "      <td>5.225</td>\n",
       "      <td>45.25</td>\n",
       "      <td>0</td>\n",
       "      <td>24</td>\n",
       "      <td>-1.3</td>\n",
       "      <td>28</td>\n",
       "      <td>NaN</td>\n",
       "      <td>NaN</td>\n",
       "      <td>NaN</td>\n",
       "      <td>NaN</td>\n",
       "    </tr>\n",
       "    <tr>\n",
       "      <th>26</th>\n",
       "      <td>1</td>\n",
       "      <td>7.982</td>\n",
       "      <td>43.71</td>\n",
       "      <td>0</td>\n",
       "      <td>27</td>\n",
       "      <td>2.0</td>\n",
       "      <td>33</td>\n",
       "      <td>NaN</td>\n",
       "      <td>NaN</td>\n",
       "      <td>NaN</td>\n",
       "      <td>NaN</td>\n",
       "    </tr>\n",
       "    <tr>\n",
       "      <th>27</th>\n",
       "      <td>1</td>\n",
       "      <td>4.361</td>\n",
       "      <td>52.71</td>\n",
       "      <td>0</td>\n",
       "      <td>22</td>\n",
       "      <td>-2.5</td>\n",
       "      <td>28</td>\n",
       "      <td>NaN</td>\n",
       "      <td>NaN</td>\n",
       "      <td>NaN</td>\n",
       "      <td>NaN</td>\n",
       "    </tr>\n",
       "    <tr>\n",
       "      <th>28</th>\n",
       "      <td>1</td>\n",
       "      <td>2.853</td>\n",
       "      <td>51.12</td>\n",
       "      <td>0</td>\n",
       "      <td>42</td>\n",
       "      <td>2.3</td>\n",
       "      <td>22</td>\n",
       "      <td>NaN</td>\n",
       "      <td>NaN</td>\n",
       "      <td>NaN</td>\n",
       "      <td>NaN</td>\n",
       "    </tr>\n",
       "    <tr>\n",
       "      <th>29</th>\n",
       "      <td>1</td>\n",
       "      <td>2.777</td>\n",
       "      <td>38.60</td>\n",
       "      <td>1</td>\n",
       "      <td>24</td>\n",
       "      <td>-2.5</td>\n",
       "      <td>33</td>\n",
       "      <td>NaN</td>\n",
       "      <td>NaN</td>\n",
       "      <td>NaN</td>\n",
       "      <td>NaN</td>\n",
       "    </tr>\n",
       "    <tr>\n",
       "      <th>30</th>\n",
       "      <td>1</td>\n",
       "      <td>1.977</td>\n",
       "      <td>49.07</td>\n",
       "      <td>0</td>\n",
       "      <td>41</td>\n",
       "      <td>-3.6</td>\n",
       "      <td>28</td>\n",
       "      <td>NaN</td>\n",
       "      <td>NaN</td>\n",
       "      <td>NaN</td>\n",
       "      <td>NaN</td>\n",
       "    </tr>\n",
       "    <tr>\n",
       "      <th>31</th>\n",
       "      <td>1</td>\n",
       "      <td>3.784</td>\n",
       "      <td>45.44</td>\n",
       "      <td>0</td>\n",
       "      <td>12</td>\n",
       "      <td>-1.9</td>\n",
       "      <td>20</td>\n",
       "      <td>NaN</td>\n",
       "      <td>NaN</td>\n",
       "      <td>NaN</td>\n",
       "      <td>NaN</td>\n",
       "    </tr>\n",
       "    <tr>\n",
       "      <th>32</th>\n",
       "      <td>1</td>\n",
       "      <td>3.043</td>\n",
       "      <td>62.50</td>\n",
       "      <td>0</td>\n",
       "      <td>25</td>\n",
       "      <td>-1.9</td>\n",
       "      <td>25</td>\n",
       "      <td>NaN</td>\n",
       "      <td>NaN</td>\n",
       "      <td>NaN</td>\n",
       "      <td>NaN</td>\n",
       "    </tr>\n",
       "    <tr>\n",
       "      <th>33</th>\n",
       "      <td>1</td>\n",
       "      <td>5.618</td>\n",
       "      <td>52.44</td>\n",
       "      <td>0</td>\n",
       "      <td>27</td>\n",
       "      <td>1.1</td>\n",
       "      <td>28</td>\n",
       "      <td>NaN</td>\n",
       "      <td>NaN</td>\n",
       "      <td>NaN</td>\n",
       "      <td>NaN</td>\n",
       "    </tr>\n",
       "    <tr>\n",
       "      <th>34</th>\n",
       "      <td>1</td>\n",
       "      <td>7.374</td>\n",
       "      <td>38.25</td>\n",
       "      <td>0</td>\n",
       "      <td>36</td>\n",
       "      <td>3.1</td>\n",
       "      <td>31</td>\n",
       "      <td>NaN</td>\n",
       "      <td>NaN</td>\n",
       "      <td>NaN</td>\n",
       "      <td>NaN</td>\n",
       "    </tr>\n",
       "    <tr>\n",
       "      <th>35</th>\n",
       "      <td>1</td>\n",
       "      <td>3.090</td>\n",
       "      <td>56.77</td>\n",
       "      <td>0</td>\n",
       "      <td>49</td>\n",
       "      <td>-1.7</td>\n",
       "      <td>33</td>\n",
       "      <td>NaN</td>\n",
       "      <td>NaN</td>\n",
       "      <td>NaN</td>\n",
       "      <td>NaN</td>\n",
       "    </tr>\n",
       "    <tr>\n",
       "      <th>36</th>\n",
       "      <td>1</td>\n",
       "      <td>6.178</td>\n",
       "      <td>61.51</td>\n",
       "      <td>1</td>\n",
       "      <td>6</td>\n",
       "      <td>-2.5</td>\n",
       "      <td>41</td>\n",
       "      <td>NaN</td>\n",
       "      <td>NaN</td>\n",
       "      <td>NaN</td>\n",
       "      <td>NaN</td>\n",
       "    </tr>\n",
       "    <tr>\n",
       "      <th>37</th>\n",
       "      <td>1</td>\n",
       "      <td>4.605</td>\n",
       "      <td>58.22</td>\n",
       "      <td>0</td>\n",
       "      <td>41</td>\n",
       "      <td>0.2</td>\n",
       "      <td>32</td>\n",
       "      <td>NaN</td>\n",
       "      <td>NaN</td>\n",
       "      <td>NaN</td>\n",
       "      <td>NaN</td>\n",
       "    </tr>\n",
       "    <tr>\n",
       "      <th>38</th>\n",
       "      <td>1</td>\n",
       "      <td>1.968</td>\n",
       "      <td>65.84</td>\n",
       "      <td>0</td>\n",
       "      <td>76</td>\n",
       "      <td>3.5</td>\n",
       "      <td>33</td>\n",
       "      <td>NaN</td>\n",
       "      <td>NaN</td>\n",
       "      <td>NaN</td>\n",
       "      <td>NaN</td>\n",
       "    </tr>\n",
       "    <tr>\n",
       "      <th>39</th>\n",
       "      <td>1</td>\n",
       "      <td>3.610</td>\n",
       "      <td>45.18</td>\n",
       "      <td>1</td>\n",
       "      <td>43</td>\n",
       "      <td>2.5</td>\n",
       "      <td>36</td>\n",
       "      <td>NaN</td>\n",
       "      <td>NaN</td>\n",
       "      <td>NaN</td>\n",
       "      <td>NaN</td>\n",
       "    </tr>\n",
       "    <tr>\n",
       "      <th>40</th>\n",
       "      <td>1</td>\n",
       "      <td>9.896</td>\n",
       "      <td>65.18</td>\n",
       "      <td>0</td>\n",
       "      <td>69</td>\n",
       "      <td>2.3</td>\n",
       "      <td>58</td>\n",
       "      <td>NaN</td>\n",
       "      <td>NaN</td>\n",
       "      <td>NaN</td>\n",
       "      <td>NaN</td>\n",
       "    </tr>\n",
       "    <tr>\n",
       "      <th>41</th>\n",
       "      <td>1</td>\n",
       "      <td>-0.256</td>\n",
       "      <td>53.70</td>\n",
       "      <td>0</td>\n",
       "      <td>13</td>\n",
       "      <td>0.3</td>\n",
       "      <td>5</td>\n",
       "      <td>NaN</td>\n",
       "      <td>NaN</td>\n",
       "      <td>NaN</td>\n",
       "      <td>NaN</td>\n",
       "    </tr>\n",
       "    <tr>\n",
       "      <th>42</th>\n",
       "      <td>1</td>\n",
       "      <td>4.545</td>\n",
       "      <td>39.25</td>\n",
       "      <td>1</td>\n",
       "      <td>18</td>\n",
       "      <td>2.2</td>\n",
       "      <td>29</td>\n",
       "      <td>NaN</td>\n",
       "      <td>NaN</td>\n",
       "      <td>NaN</td>\n",
       "      <td>NaN</td>\n",
       "    </tr>\n",
       "    <tr>\n",
       "      <th>43</th>\n",
       "      <td>1</td>\n",
       "      <td>3.121</td>\n",
       "      <td>36.89</td>\n",
       "      <td>0</td>\n",
       "      <td>20</td>\n",
       "      <td>4.1</td>\n",
       "      <td>10</td>\n",
       "      <td>NaN</td>\n",
       "      <td>NaN</td>\n",
       "      <td>NaN</td>\n",
       "      <td>NaN</td>\n",
       "    </tr>\n",
       "    <tr>\n",
       "      <th>44</th>\n",
       "      <td>1</td>\n",
       "      <td>4.698</td>\n",
       "      <td>40.65</td>\n",
       "      <td>0</td>\n",
       "      <td>8</td>\n",
       "      <td>-1.8</td>\n",
       "      <td>20</td>\n",
       "      <td>NaN</td>\n",
       "      <td>NaN</td>\n",
       "      <td>NaN</td>\n",
       "      <td>NaN</td>\n",
       "    </tr>\n",
       "    <tr>\n",
       "      <th>45</th>\n",
       "      <td>1</td>\n",
       "      <td>-0.328</td>\n",
       "      <td>49.64</td>\n",
       "      <td>0</td>\n",
       "      <td>18</td>\n",
       "      <td>0.5</td>\n",
       "      <td>6</td>\n",
       "      <td>NaN</td>\n",
       "      <td>NaN</td>\n",
       "      <td>NaN</td>\n",
       "      <td>NaN</td>\n",
       "    </tr>\n",
       "    <tr>\n",
       "      <th>46</th>\n",
       "      <td>1</td>\n",
       "      <td>5.216</td>\n",
       "      <td>44.49</td>\n",
       "      <td>1</td>\n",
       "      <td>11</td>\n",
       "      <td>3.2</td>\n",
       "      <td>28</td>\n",
       "      <td>NaN</td>\n",
       "      <td>NaN</td>\n",
       "      <td>NaN</td>\n",
       "      <td>NaN</td>\n",
       "    </tr>\n",
       "    <tr>\n",
       "      <th>47</th>\n",
       "      <td>1</td>\n",
       "      <td>-2.111</td>\n",
       "      <td>51.31</td>\n",
       "      <td>0</td>\n",
       "      <td>25</td>\n",
       "      <td>2.6</td>\n",
       "      <td>-1</td>\n",
       "      <td>NaN</td>\n",
       "      <td>NaN</td>\n",
       "      <td>NaN</td>\n",
       "      <td>NaN</td>\n",
       "    </tr>\n",
       "    <tr>\n",
       "      <th>48</th>\n",
       "      <td>1</td>\n",
       "      <td>6.804</td>\n",
       "      <td>36.12</td>\n",
       "      <td>0</td>\n",
       "      <td>24</td>\n",
       "      <td>3.0</td>\n",
       "      <td>25</td>\n",
       "      <td>NaN</td>\n",
       "      <td>NaN</td>\n",
       "      <td>NaN</td>\n",
       "      <td>NaN</td>\n",
       "    </tr>\n",
       "    <tr>\n",
       "      <th>49</th>\n",
       "      <td>1</td>\n",
       "      <td>5.643</td>\n",
       "      <td>39.06</td>\n",
       "      <td>0</td>\n",
       "      <td>35</td>\n",
       "      <td>-1.9</td>\n",
       "      <td>34</td>\n",
       "      <td>NaN</td>\n",
       "      <td>NaN</td>\n",
       "      <td>NaN</td>\n",
       "      <td>NaN</td>\n",
       "    </tr>\n",
       "  </tbody>\n",
       "</table>\n",
       "</div>"
      ],
      "text/plain": [
       "    X0     X1     X2  X3  X4   X5   y  Unnamed: 7  Unnamed: 8  Unnamed: 9  \\\n",
       "0    1  5.768  62.55   0  28  2.6  28         NaN         NaN         NaN   \n",
       "1    1  8.949  66.91   0  27 -2.0  46         NaN         NaN         NaN   \n",
       "2    1  1.024  34.42   0  20 -3.4  14         NaN         NaN         NaN   \n",
       "3    1  4.534  47.93   0  10  1.1  17         NaN         NaN         NaN   \n",
       "4    1  8.641  35.26   0  30  3.8  32         NaN         NaN         NaN   \n",
       "5    1  1.063  42.14   0   6 -2.1   8         NaN         NaN         NaN   \n",
       "6    1  5.306  39.80   0  29 -1.8  30         NaN         NaN         NaN   \n",
       "7    1  4.309  36.14   0  12 -3.4  22         NaN         NaN         NaN   \n",
       "8    1  3.739  44.53   0  39  1.9  24         NaN         NaN         NaN   \n",
       "9    1  3.816  60.01   0  10 -3.4  24         NaN         NaN         NaN   \n",
       "10   1  8.539  36.90   0  31 -3.0  43         NaN         NaN         NaN   \n",
       "11   1  7.129  35.77   0  38  3.5  30         NaN         NaN         NaN   \n",
       "12   1  4.249  37.17   0  23  0.8  20         NaN         NaN         NaN   \n",
       "13   1 -2.990  42.41   0  20 -3.1   2         NaN         NaN         NaN   \n",
       "14   1  0.356  57.67   0  26 -3.8  19         NaN         NaN         NaN   \n",
       "15   1  5.487  35.25   0  10 -2.8  24         NaN         NaN         NaN   \n",
       "16   1  5.699  62.15   0  13  2.4  22         NaN         NaN         NaN   \n",
       "17   1 -0.373  38.38   1  42  2.0  23         NaN         NaN         NaN   \n",
       "18   1  3.900  40.53   0  23 -2.5  25         NaN         NaN         NaN   \n",
       "19   1  3.616  35.91   1  16  3.1  23         NaN         NaN         NaN   \n",
       "20   1  9.103  59.60   0  14  2.2  34         NaN         NaN         NaN   \n",
       "21   1  2.714  43.54   0  37  2.1  19         NaN         NaN         NaN   \n",
       "22   1  6.885  35.66   1  20 -3.7  46         NaN         NaN         NaN   \n",
       "23   1 -0.850  43.94   1  31 -3.2  26         NaN         NaN         NaN   \n",
       "24   1  5.511  58.96   0   6 -3.8  28         NaN         NaN         NaN   \n",
       "25   1  5.225  45.25   0  24 -1.3  28         NaN         NaN         NaN   \n",
       "26   1  7.982  43.71   0  27  2.0  33         NaN         NaN         NaN   \n",
       "27   1  4.361  52.71   0  22 -2.5  28         NaN         NaN         NaN   \n",
       "28   1  2.853  51.12   0  42  2.3  22         NaN         NaN         NaN   \n",
       "29   1  2.777  38.60   1  24 -2.5  33         NaN         NaN         NaN   \n",
       "30   1  1.977  49.07   0  41 -3.6  28         NaN         NaN         NaN   \n",
       "31   1  3.784  45.44   0  12 -1.9  20         NaN         NaN         NaN   \n",
       "32   1  3.043  62.50   0  25 -1.9  25         NaN         NaN         NaN   \n",
       "33   1  5.618  52.44   0  27  1.1  28         NaN         NaN         NaN   \n",
       "34   1  7.374  38.25   0  36  3.1  31         NaN         NaN         NaN   \n",
       "35   1  3.090  56.77   0  49 -1.7  33         NaN         NaN         NaN   \n",
       "36   1  6.178  61.51   1   6 -2.5  41         NaN         NaN         NaN   \n",
       "37   1  4.605  58.22   0  41  0.2  32         NaN         NaN         NaN   \n",
       "38   1  1.968  65.84   0  76  3.5  33         NaN         NaN         NaN   \n",
       "39   1  3.610  45.18   1  43  2.5  36         NaN         NaN         NaN   \n",
       "40   1  9.896  65.18   0  69  2.3  58         NaN         NaN         NaN   \n",
       "41   1 -0.256  53.70   0  13  0.3   5         NaN         NaN         NaN   \n",
       "42   1  4.545  39.25   1  18  2.2  29         NaN         NaN         NaN   \n",
       "43   1  3.121  36.89   0  20  4.1  10         NaN         NaN         NaN   \n",
       "44   1  4.698  40.65   0   8 -1.8  20         NaN         NaN         NaN   \n",
       "45   1 -0.328  49.64   0  18  0.5   6         NaN         NaN         NaN   \n",
       "46   1  5.216  44.49   1  11  3.2  28         NaN         NaN         NaN   \n",
       "47   1 -2.111  51.31   0  25  2.6  -1         NaN         NaN         NaN   \n",
       "48   1  6.804  36.12   0  24  3.0  25         NaN         NaN         NaN   \n",
       "49   1  5.643  39.06   0  35 -1.9  34         NaN         NaN         NaN   \n",
       "\n",
       "    Unnamed: 10  \n",
       "0           NaN  \n",
       "1           NaN  \n",
       "2           NaN  \n",
       "3           NaN  \n",
       "4           NaN  \n",
       "5           NaN  \n",
       "6           NaN  \n",
       "7           NaN  \n",
       "8           NaN  \n",
       "9           NaN  \n",
       "10          NaN  \n",
       "11          NaN  \n",
       "12          NaN  \n",
       "13          NaN  \n",
       "14          NaN  \n",
       "15          NaN  \n",
       "16          NaN  \n",
       "17          NaN  \n",
       "18          NaN  \n",
       "19          NaN  \n",
       "20          NaN  \n",
       "21          NaN  \n",
       "22          NaN  \n",
       "23          NaN  \n",
       "24          NaN  \n",
       "25          NaN  \n",
       "26          NaN  \n",
       "27          NaN  \n",
       "28          NaN  \n",
       "29          NaN  \n",
       "30          NaN  \n",
       "31          NaN  \n",
       "32          NaN  \n",
       "33          NaN  \n",
       "34          NaN  \n",
       "35          NaN  \n",
       "36          NaN  \n",
       "37          NaN  \n",
       "38          NaN  \n",
       "39          NaN  \n",
       "40          NaN  \n",
       "41          NaN  \n",
       "42          NaN  \n",
       "43          NaN  \n",
       "44          NaN  \n",
       "45          NaN  \n",
       "46          NaN  \n",
       "47          NaN  \n",
       "48          NaN  \n",
       "49          NaN  "
      ]
     },
     "execution_count": 106,
     "metadata": {},
     "output_type": "execute_result"
    }
   ],
   "source": [
    "import pandas as pd\n",
    "import numpy as np\n",
    "\n",
    "data = pd.read_csv(\"NumpyExerciseData.csv\")\n",
    "data"
   ]
  },
  {
   "cell_type": "code",
   "execution_count": 107,
   "id": "b1500f14",
   "metadata": {},
   "outputs": [
    {
     "data": {
      "text/html": [
       "<div>\n",
       "<style scoped>\n",
       "    .dataframe tbody tr th:only-of-type {\n",
       "        vertical-align: middle;\n",
       "    }\n",
       "\n",
       "    .dataframe tbody tr th {\n",
       "        vertical-align: top;\n",
       "    }\n",
       "\n",
       "    .dataframe thead th {\n",
       "        text-align: right;\n",
       "    }\n",
       "</style>\n",
       "<table border=\"1\" class=\"dataframe\">\n",
       "  <thead>\n",
       "    <tr style=\"text-align: right;\">\n",
       "      <th></th>\n",
       "      <th>X0</th>\n",
       "      <th>X1</th>\n",
       "      <th>X2</th>\n",
       "      <th>X3</th>\n",
       "      <th>X4</th>\n",
       "      <th>X5</th>\n",
       "      <th>y</th>\n",
       "    </tr>\n",
       "  </thead>\n",
       "  <tbody>\n",
       "    <tr>\n",
       "      <th>0</th>\n",
       "      <td>1</td>\n",
       "      <td>5.768</td>\n",
       "      <td>62.55</td>\n",
       "      <td>0</td>\n",
       "      <td>28</td>\n",
       "      <td>2.6</td>\n",
       "      <td>28</td>\n",
       "    </tr>\n",
       "    <tr>\n",
       "      <th>1</th>\n",
       "      <td>1</td>\n",
       "      <td>8.949</td>\n",
       "      <td>66.91</td>\n",
       "      <td>0</td>\n",
       "      <td>27</td>\n",
       "      <td>-2.0</td>\n",
       "      <td>46</td>\n",
       "    </tr>\n",
       "    <tr>\n",
       "      <th>2</th>\n",
       "      <td>1</td>\n",
       "      <td>1.024</td>\n",
       "      <td>34.42</td>\n",
       "      <td>0</td>\n",
       "      <td>20</td>\n",
       "      <td>-3.4</td>\n",
       "      <td>14</td>\n",
       "    </tr>\n",
       "    <tr>\n",
       "      <th>3</th>\n",
       "      <td>1</td>\n",
       "      <td>4.534</td>\n",
       "      <td>47.93</td>\n",
       "      <td>0</td>\n",
       "      <td>10</td>\n",
       "      <td>1.1</td>\n",
       "      <td>17</td>\n",
       "    </tr>\n",
       "    <tr>\n",
       "      <th>4</th>\n",
       "      <td>1</td>\n",
       "      <td>8.641</td>\n",
       "      <td>35.26</td>\n",
       "      <td>0</td>\n",
       "      <td>30</td>\n",
       "      <td>3.8</td>\n",
       "      <td>32</td>\n",
       "    </tr>\n",
       "  </tbody>\n",
       "</table>\n",
       "</div>"
      ],
      "text/plain": [
       "   X0     X1     X2  X3  X4   X5   y\n",
       "0   1  5.768  62.55   0  28  2.6  28\n",
       "1   1  8.949  66.91   0  27 -2.0  46\n",
       "2   1  1.024  34.42   0  20 -3.4  14\n",
       "3   1  4.534  47.93   0  10  1.1  17\n",
       "4   1  8.641  35.26   0  30  3.8  32"
      ]
     },
     "execution_count": 107,
     "metadata": {},
     "output_type": "execute_result"
    }
   ],
   "source": [
    "data = data.drop(columns=[\"Unnamed: 7\", \"Unnamed: 8\", \"Unnamed: 9\", \"Unnamed: 10\"])\n",
    "data.head()"
   ]
  },
  {
   "cell_type": "markdown",
   "id": "75aec5e8",
   "metadata": {},
   "source": [
    "Newtons"
   ]
  },
  {
   "cell_type": "code",
   "execution_count": 108,
   "id": "8c970f42",
   "metadata": {},
   "outputs": [],
   "source": [
    "X = data.iloc[1:41, :6].values\n",
    "Y = data.iloc[1:41, -1].values"
   ]
  },
  {
   "cell_type": "code",
   "execution_count": 109,
   "id": "58fd561a",
   "metadata": {},
   "outputs": [
    {
     "data": {
      "text/plain": [
       "((40, 6), (40,))"
      ]
     },
     "execution_count": 109,
     "metadata": {},
     "output_type": "execute_result"
    }
   ],
   "source": [
    "X.shape, Y.shape"
   ]
  },
  {
   "cell_type": "code",
   "execution_count": 110,
   "id": "b1bf479f",
   "metadata": {},
   "outputs": [
    {
     "data": {
      "text/plain": [
       "array([[ 1.   ,  1.   ,  8.949, 66.91 ,  0.   , 27.   , -2.   ],\n",
       "       [ 1.   ,  1.   ,  1.024, 34.42 ,  0.   , 20.   , -3.4  ],\n",
       "       [ 1.   ,  1.   ,  4.534, 47.93 ,  0.   , 10.   ,  1.1  ],\n",
       "       [ 1.   ,  1.   ,  8.641, 35.26 ,  0.   , 30.   ,  3.8  ],\n",
       "       [ 1.   ,  1.   ,  1.063, 42.14 ,  0.   ,  6.   , -2.1  ],\n",
       "       [ 1.   ,  1.   ,  5.306, 39.8  ,  0.   , 29.   , -1.8  ],\n",
       "       [ 1.   ,  1.   ,  4.309, 36.14 ,  0.   , 12.   , -3.4  ],\n",
       "       [ 1.   ,  1.   ,  3.739, 44.53 ,  0.   , 39.   ,  1.9  ],\n",
       "       [ 1.   ,  1.   ,  3.816, 60.01 ,  0.   , 10.   , -3.4  ],\n",
       "       [ 1.   ,  1.   ,  8.539, 36.9  ,  0.   , 31.   , -3.   ],\n",
       "       [ 1.   ,  1.   ,  7.129, 35.77 ,  0.   , 38.   ,  3.5  ],\n",
       "       [ 1.   ,  1.   ,  4.249, 37.17 ,  0.   , 23.   ,  0.8  ],\n",
       "       [ 1.   ,  1.   , -2.99 , 42.41 ,  0.   , 20.   , -3.1  ],\n",
       "       [ 1.   ,  1.   ,  0.356, 57.67 ,  0.   , 26.   , -3.8  ],\n",
       "       [ 1.   ,  1.   ,  5.487, 35.25 ,  0.   , 10.   , -2.8  ],\n",
       "       [ 1.   ,  1.   ,  5.699, 62.15 ,  0.   , 13.   ,  2.4  ],\n",
       "       [ 1.   ,  1.   , -0.373, 38.38 ,  1.   , 42.   ,  2.   ],\n",
       "       [ 1.   ,  1.   ,  3.9  , 40.53 ,  0.   , 23.   , -2.5  ],\n",
       "       [ 1.   ,  1.   ,  3.616, 35.91 ,  1.   , 16.   ,  3.1  ],\n",
       "       [ 1.   ,  1.   ,  9.103, 59.6  ,  0.   , 14.   ,  2.2  ],\n",
       "       [ 1.   ,  1.   ,  2.714, 43.54 ,  0.   , 37.   ,  2.1  ],\n",
       "       [ 1.   ,  1.   ,  6.885, 35.66 ,  1.   , 20.   , -3.7  ],\n",
       "       [ 1.   ,  1.   , -0.85 , 43.94 ,  1.   , 31.   , -3.2  ],\n",
       "       [ 1.   ,  1.   ,  5.511, 58.96 ,  0.   ,  6.   , -3.8  ],\n",
       "       [ 1.   ,  1.   ,  5.225, 45.25 ,  0.   , 24.   , -1.3  ],\n",
       "       [ 1.   ,  1.   ,  7.982, 43.71 ,  0.   , 27.   ,  2.   ],\n",
       "       [ 1.   ,  1.   ,  4.361, 52.71 ,  0.   , 22.   , -2.5  ],\n",
       "       [ 1.   ,  1.   ,  2.853, 51.12 ,  0.   , 42.   ,  2.3  ],\n",
       "       [ 1.   ,  1.   ,  2.777, 38.6  ,  1.   , 24.   , -2.5  ],\n",
       "       [ 1.   ,  1.   ,  1.977, 49.07 ,  0.   , 41.   , -3.6  ],\n",
       "       [ 1.   ,  1.   ,  3.784, 45.44 ,  0.   , 12.   , -1.9  ],\n",
       "       [ 1.   ,  1.   ,  3.043, 62.5  ,  0.   , 25.   , -1.9  ],\n",
       "       [ 1.   ,  1.   ,  5.618, 52.44 ,  0.   , 27.   ,  1.1  ],\n",
       "       [ 1.   ,  1.   ,  7.374, 38.25 ,  0.   , 36.   ,  3.1  ],\n",
       "       [ 1.   ,  1.   ,  3.09 , 56.77 ,  0.   , 49.   , -1.7  ],\n",
       "       [ 1.   ,  1.   ,  6.178, 61.51 ,  1.   ,  6.   , -2.5  ],\n",
       "       [ 1.   ,  1.   ,  4.605, 58.22 ,  0.   , 41.   ,  0.2  ],\n",
       "       [ 1.   ,  1.   ,  1.968, 65.84 ,  0.   , 76.   ,  3.5  ],\n",
       "       [ 1.   ,  1.   ,  3.61 , 45.18 ,  1.   , 43.   ,  2.5  ],\n",
       "       [ 1.   ,  1.   ,  9.896, 65.18 ,  0.   , 69.   ,  2.3  ]])"
      ]
     },
     "execution_count": 110,
     "metadata": {},
     "output_type": "execute_result"
    }
   ],
   "source": [
    "X = np.hstack((np.ones((X.shape[0], 1)), X))\n",
    "X"
   ]
  },
  {
   "cell_type": "code",
   "execution_count": 111,
   "id": "bbeefd92",
   "metadata": {},
   "outputs": [
    {
     "data": {
      "text/plain": [
       "array([[ 1.79223696e-01,  1.79223696e-01, -7.70448957e-03,\n",
       "        -5.51191669e-03, -6.03476345e-02, -1.31260569e-03,\n",
       "         7.08364373e-03],\n",
       "       [ 1.79223696e-01,  1.79223696e-01, -7.70448957e-03,\n",
       "        -5.51191669e-03, -6.03476345e-02, -1.31260569e-03,\n",
       "         7.08364373e-03],\n",
       "       [-7.70448957e-03, -7.70448957e-03,  3.74383963e-03,\n",
       "        -1.43240965e-04,  4.85835606e-03,  1.53264469e-04,\n",
       "        -1.63683045e-03],\n",
       "       [-5.51191669e-03, -5.51191669e-03, -1.43240965e-04,\n",
       "         2.69855722e-04,  1.30388694e-03, -4.84086991e-05,\n",
       "         1.75956809e-04],\n",
       "       [-6.03476345e-02, -6.03476345e-02,  4.85835606e-03,\n",
       "         1.30388694e-03,  1.88171717e-01,  1.38157785e-04,\n",
       "        -1.46562315e-03],\n",
       "       [-1.31260569e-03, -1.31260569e-03,  1.53264469e-04,\n",
       "        -4.84086991e-05,  1.38157785e-04,  1.46161890e-04,\n",
       "        -4.51876741e-04],\n",
       "       [ 7.08364373e-03,  7.08364373e-03, -1.63683045e-03,\n",
       "         1.75956809e-04, -1.46562315e-03, -4.51876741e-04,\n",
       "         5.47896608e-03]])"
      ]
     },
     "execution_count": 111,
     "metadata": {},
     "output_type": "execute_result"
    }
   ],
   "source": [
    "# computing the pseudo-inverse of (X^T*X)\n",
    "X_transpose_pseudo_inverse = np.linalg.pinv(np.dot(X.T, X))\n",
    "X_transpose_pseudo_inverse"
   ]
  },
  {
   "cell_type": "code",
   "execution_count": 112,
   "id": "80596f51",
   "metadata": {},
   "outputs": [
    {
     "data": {
      "text/plain": [
       "array([-3.91598187, -3.91598187,  3.26458338,  0.16631204, 12.19246692,\n",
       "        0.38231333, -1.58835343])"
      ]
     },
     "execution_count": 112,
     "metadata": {},
     "output_type": "execute_result"
    }
   ],
   "source": [
    "# Weights\n",
    "w = np.dot(np.dot(X_transpose_pseudo_inverse, X.T), Y)\n",
    "w"
   ]
  },
  {
   "cell_type": "code",
   "execution_count": 113,
   "id": "277e9f34",
   "metadata": {},
   "outputs": [
    {
     "data": {
      "text/plain": [
       "array([46.00989848, 14.28209844, 17.016938  , 31.67512079,  8.27610001,\n",
       "       30.05525777, 22.23380488, 23.67253722, 23.82960703, 42.7980017 ,\n",
       "       30.35890257, 19.74359354,  2.03038794, 18.89733308, 24.21382766,\n",
       "       22.2672154 , 22.40632288, 24.40462873, 23.33061978, 33.65574554,\n",
       "       19.07939298, 46.29102151, 25.82780273, 28.29453625, 27.99148376,\n",
       "       32.64119327, 27.55296899, 22.38771132, 32.9922996 , 28.17596851,\n",
       "       19.68407044, 25.07237092, 27.80514037, 31.44189406, 33.13068768,\n",
       "       41.02371652, 32.24130577, 33.03929752, 36.12821698, 58.04097939])"
      ]
     },
     "execution_count": 113,
     "metadata": {},
     "output_type": "execute_result"
    }
   ],
   "source": [
    "# new y values from the generated w values\n",
    "y_new = np.dot(X, w)\n",
    "y_new"
   ]
  },
  {
   "cell_type": "code",
   "execution_count": 114,
   "id": "12f42d12",
   "metadata": {},
   "outputs": [],
   "source": [
    "SSR_train = np.sum((Y - y_new) ** 2)\n",
    "MSR_train = SSR_train / (len(Y))\n",
    "RMSE_train = np.sqrt(MSR_train)"
   ]
  },
  {
   "cell_type": "code",
   "execution_count": 115,
   "id": "e9fb996a",
   "metadata": {},
   "outputs": [
    {
     "data": {
      "text/plain": [
       "((8, 6), (8,))"
      ]
     },
     "execution_count": 115,
     "metadata": {},
     "output_type": "execute_result"
    }
   ],
   "source": [
    "# getting X_test and y_test values from rows 43 to 50 in matrices\n",
    "X_test = csv_file.iloc[42:51, :6]\n",
    "Y_test = csv_file.iloc[42:51, -1]\n",
    "X_test.shape,y_test.shape\n",
    "\n"
   ]
  },
  {
   "cell_type": "code",
   "execution_count": 117,
   "id": "264b176e",
   "metadata": {},
   "outputs": [
    {
     "data": {
      "text/plain": [
       "array([29.10484845,  9.78787445, 20.23022966,  5.54357092, 27.89515155,\n",
       "       -0.59718708, 25.13007152, 33.90544053])"
      ]
     },
     "execution_count": 117,
     "metadata": {},
     "output_type": "execute_result"
    }
   ],
   "source": [
    "# adding a column of ones to X_train\n",
    "X_test = np.hstack((np.ones((X_test.shape[0], 1)), X_test))\n",
    "X_test\n",
    "\n",
    "# computing the pseudo-inverse of (X^T*X)\n",
    "X_transpose_pseudo_inverse_X1 = np.linalg.pinv(np.dot(X_test.T, X_test))\n",
    "X_transpose_pseudo_inverse_X1\n",
    "\n",
    "# computing the weights\n",
    "weight1 = np.dot(np.dot(X_transpose_pseudo_inverse_X1, X_test.T), y_test)\n",
    "weight1\n",
    "\n",
    "# generating y values from the new generated w values\n",
    "y_new_test = np.dot(X_test, weight1)\n",
    "y_new_test\n",
    "\n"
   ]
  },
  {
   "cell_type": "code",
   "execution_count": 118,
   "id": "120617c0",
   "metadata": {},
   "outputs": [
    {
     "data": {
      "text/plain": [
       "(0.5164351933231248, 0.0645543991653906, 0.25407557766418754)"
      ]
     },
     "execution_count": 118,
     "metadata": {},
     "output_type": "execute_result"
    }
   ],
   "source": [
    "SSR_test = np.sum((y_test - y_new_test) ** 2)\n",
    "MSR_test = SSR_test / (len(y_test))\n",
    "RMSE_test = np.sqrt(MSR_test)\n",
    "SSR_test,MSR_test,RMSE_test"
   ]
  },
  {
   "cell_type": "markdown",
   "id": "ee6feeed",
   "metadata": {},
   "source": [
    "Newton method computation with λ = 0.17"
   ]
  },
  {
   "cell_type": "code",
   "execution_count": 119,
   "id": "e13fa964",
   "metadata": {},
   "outputs": [
    {
     "data": {
      "text/plain": [
       "array([[ 3.10955194e+00, -2.77280100e+00, -7.21155221e-03,\n",
       "        -5.18430128e-03, -5.51208106e-02, -1.23548021e-03,\n",
       "         6.65624171e-03],\n",
       "       [-2.77280100e+00,  3.10955194e+00, -7.21155221e-03,\n",
       "        -5.18430128e-03, -5.51208106e-02, -1.23548021e-03,\n",
       "         6.65624171e-03],\n",
       "       [-7.21155221e-03, -7.21155221e-03,  3.71835782e-03,\n",
       "        -1.57619450e-04,  4.56104176e-03,  1.49712910e-04,\n",
       "        -1.61576960e-03],\n",
       "       [-5.18430128e-03, -5.18430128e-03, -1.57619450e-04,\n",
       "         2.59861018e-04,  1.16051135e-03, -5.07276503e-05,\n",
       "         1.88500927e-04],\n",
       "       [-5.51208106e-02, -5.51208106e-02,  4.56104176e-03,\n",
       "         1.16051135e-03,  1.81238711e-01,  1.09090690e-04,\n",
       "        -1.28527139e-03],\n",
       "       [-1.23548021e-03, -1.23548021e-03,  1.49712910e-04,\n",
       "        -5.07276503e-05,  1.09090690e-04,  1.45565569e-04,\n",
       "        -4.48401970e-04],\n",
       "       [ 6.65624171e-03,  6.65624171e-03, -1.61576960e-03,\n",
       "         1.88500927e-04, -1.28527139e-03, -4.48401970e-04,\n",
       "         5.45704218e-03]])"
      ]
     },
     "execution_count": 119,
     "metadata": {},
     "output_type": "execute_result"
    }
   ],
   "source": [
    "# declaring lambda as 0.17\n",
    "lambda_reg = 0.17\n",
    "# computing the pseudo-inverse of (X'X+lambda*I)^-1)\n",
    "X_transpose_reg_pseudo_inverse_X = np.linalg.pinv(np.dot(X.T, X) + lambda_reg * np.eye(X.shape[1]))\n",
    "X_transpose_reg_pseudo_inverse_X"
   ]
  },
  {
   "cell_type": "code",
   "execution_count": 120,
   "id": "89b3db32",
   "metadata": {},
   "outputs": [
    {
     "data": {
      "text/plain": [
       "array([-3.57152464, -3.57152464,  3.24302274,  0.1571384 , 11.74050198,\n",
       "        0.38023007, -1.57443304])"
      ]
     },
     "execution_count": 120,
     "metadata": {},
     "output_type": "execute_result"
    }
   ],
   "source": [
    "# computing the weights\n",
    "w_reg = np.dot(np.dot(X_transpose_reg_pseudo_inverse_X, X.T), Y)\n",
    "w_reg"
   ]
  },
  {
   "cell_type": "code",
   "execution_count": 121,
   "id": "90ceab38",
   "metadata": {},
   "outputs": [
    {
     "data": {
      "text/plain": [
       "array([45.80796927, 14.54418331, 17.16288353, 31.84466659,  8.51378572,\n",
       "       30.17918901, 22.42595051, 23.81753544, 23.8175737 , 42.85795996,\n",
       "       30.53552725, 19.96313369,  2.30989592, 18.94246548, 24.40125817,\n",
       "       22.26944028, 22.23957368, 24.55493279, 23.17000144, 33.60310345,\n",
       "       19.26252338, 45.9592231 , 25.57086236, 28.25835487, 28.08454158,\n",
       "       32.72862332, 27.58368188, 22.49067632, 32.7304732 , 28.23657954,\n",
       "       19.82310111, 25.0437932 , 27.85092551, 31.58908412, 33.10644728,\n",
       "       40.51589299, 32.21421409, 32.97218107, 35.8180879 , 57.80686318])"
      ]
     },
     "execution_count": 121,
     "metadata": {},
     "output_type": "execute_result"
    }
   ],
   "source": [
    "y_new_train_reg = np.dot(X, weight_reg)\n",
    "y_new_train_reg"
   ]
  },
  {
   "cell_type": "markdown",
   "id": "062b891f",
   "metadata": {},
   "source": [
    "Testing Computation"
   ]
  },
  {
   "cell_type": "code",
   "execution_count": 122,
   "id": "23b7e87e",
   "metadata": {},
   "outputs": [
    {
     "data": {
      "text/plain": [
       "array([[ 5.41993418e+00, -4.62418762e-01, -4.62418762e-01,\n",
       "        -1.60050719e-01, -8.90709982e-02,  2.58912544e-01,\n",
       "        -8.00225386e-03, -5.53532790e-02],\n",
       "       [-4.62418762e-01,  5.41993418e+00, -4.62418762e-01,\n",
       "        -1.60050719e-01, -8.90709982e-02,  2.58912544e-01,\n",
       "        -8.00225386e-03, -5.53532790e-02],\n",
       "       [-4.62418762e-01, -4.62418762e-01,  5.41993418e+00,\n",
       "        -1.60050719e-01, -8.90709982e-02,  2.58912544e-01,\n",
       "        -8.00225386e-03, -5.53532790e-02],\n",
       "       [-1.60050719e-01, -1.60050719e-01, -1.60050719e-01,\n",
       "         3.24443786e-02,  9.57495919e-03, -7.84577445e-02,\n",
       "        -1.33553944e-03,  9.40585201e-03],\n",
       "       [-8.90709982e-02, -8.90709982e-02, -8.90709982e-02,\n",
       "         9.57495919e-03,  5.85854451e-03, -2.34383720e-02,\n",
       "        -4.61410338e-04,  2.70601159e-03],\n",
       "       [ 2.58912544e-01,  2.58912544e-01,  2.58912544e-01,\n",
       "        -7.84577445e-02, -2.34383720e-02,  9.39296225e-01,\n",
       "         1.71921077e-02, -6.69933101e-02],\n",
       "       [-8.00225386e-03, -8.00225386e-03, -8.00225386e-03,\n",
       "        -1.33553944e-03, -4.61410338e-04,  1.71921077e-02,\n",
       "         2.25138008e-03, -5.38642742e-04],\n",
       "       [-5.53532790e-02, -5.53532790e-02, -5.53532790e-02,\n",
       "         9.40585201e-03,  2.70601159e-03, -6.69933101e-02,\n",
       "        -5.38642742e-04,  3.23525674e-02]])"
      ]
     },
     "execution_count": 122,
     "metadata": {},
     "output_type": "execute_result"
    }
   ],
   "source": [
    "# computing the pseudo-inverse of (X'X+lambda*I)^-1)\n",
    "X_transpose_pseudo_inverse_X1 = np.linalg.pinv(np.dot(X_test.T, X_test) + lambda_reg * np.eye(X_test.shape[1]))\n",
    "X_transpose_pseudo_inverse_X1"
   ]
  },
  {
   "cell_type": "code",
   "execution_count": 123,
   "id": "a74c028e",
   "metadata": {},
   "outputs": [
    {
     "data": {
      "text/plain": [
       "array([-1.11358864, -1.11358864, -1.11358864,  3.21543962,  0.0912395 ,\n",
       "       10.47281266,  0.34940367, -1.51916293])"
      ]
     },
     "execution_count": 123,
     "metadata": {},
     "output_type": "execute_result"
    }
   ],
   "source": [
    "# computing the weights\n",
    "w_reg_test = np.dot(np.dot(X_transpose_pseudo_inverse_X1, X_test.T), y_test)\n",
    "w_reg_test"
   ]
  },
  {
   "cell_type": "code",
   "execution_count": 125,
   "id": "454363b8",
   "metadata": {},
   "outputs": [
    {
     "data": {
      "text/plain": [
       "array([28.27447775, 10.81995164, 21.00397765,  5.66338317, 26.94514409,\n",
       "       -0.66179217, 25.66085525, 33.48331269])"
      ]
     },
     "execution_count": 125,
     "metadata": {},
     "output_type": "execute_result"
    }
   ],
   "source": [
    "y_new_test_reg = np.dot(X_test, w_reg_test)\n",
    "y_new_test_reg"
   ]
  },
  {
   "cell_type": "code",
   "execution_count": 126,
   "id": "5516dd0e",
   "metadata": {},
   "outputs": [
    {
     "data": {
      "text/plain": [
       "(4.241977175180815, 0.10604942937952037, 0.32565231364066854)"
      ]
     },
     "execution_count": 126,
     "metadata": {},
     "output_type": "execute_result"
    }
   ],
   "source": [
    "SSR_train_reg = np.sum((Y - y_new_train_reg)**2)\n",
    "MSR_train_reg = SSR_train_reg / (len(Y))\n",
    "RMSE_train_reg = np.sqrt(MSR_train_reg)\n",
    "SSR_train_reg,MSR_train_reg,RMSE_train_reg"
   ]
  },
  {
   "cell_type": "code",
   "execution_count": 127,
   "id": "9bdeb85e",
   "metadata": {},
   "outputs": [
    {
     "data": {
      "text/plain": [
       "(4.2507861948126555, 0.5313482743515819, 0.7289363993872043)"
      ]
     },
     "execution_count": 127,
     "metadata": {},
     "output_type": "execute_result"
    }
   ],
   "source": [
    "SSR_test_reg = np.sum((y_test - y_new_test_reg) ** 2)\n",
    "MSR_test_reg = SSR_test_reg / (len(y_test))\n",
    "RMSE_test_reg = np.sqrt(MSR_test_reg)\n",
    "SSR_test_reg,MSR_test_reg,RMSE_test_reg"
   ]
  },
  {
   "cell_type": "code",
   "execution_count": 128,
   "id": "d59e25fa",
   "metadata": {},
   "outputs": [],
   "source": [
    "#MSR on train, MSR on test, R-squared on train and R-squared on test for the following:\n",
    "# defining r-squared function\n",
    "def r_squared(y_actual, y_pred):\n",
    "    ss_total = np.sum((y_actual - np.mean(y_actual)) ** 2)\n",
    "    ss_res = np.sum((y_actual - y_pred) ** 2)\n",
    "    return 1 - (ss_res / ss_total)\n",
    "# creating a function for the computation of MSR and R-Squared\n",
    "def computations(train_rows, test_rows, lambda_val):\n",
    "    \n",
    "    # extracting X and y values for training\n",
    "    np_df=pd.read_csv(\"NumpyExerciseData.csv\")\n",
    "    X_train = np_df.iloc[train_rows[0]:train_rows[1], :6].values\n",
    "    y_train = np_df.iloc[train_rows[0]:train_rows[1], :6].values\n",
    "    X_train = np.hstack((np.ones((X_train.shape[0], 1)), X_train))\n",
    "    \n",
    "    # extracting X and y values for test\n",
    "    X_test = np_df.iloc[test_rows[0]:test_rows[1], :6].values\n",
    "    y_test = np_df.iloc[test_rows[0]:test_rows[1], :6].values\n",
    "    X_test = np.hstack((np.ones((X_test.shape[0], 1)), X_test))\n",
    "    \n",
    "    # regularizing Newton method\n",
    "    # training computation\n",
    "    X_reg_pinv_train = np.linalg.pinv(np.dot(X_train.T, X_train) + lambda_val * np.eye(X_train.shape[1])) \n",
    "    weight_reg_train = np.dot(np.dot(X_reg_pinv_train, X_train.T), y_train)\n",
    "    \n",
    "    # testing computation\n",
    "    X_reg_pinv_test = np.linalg.pinv(np.dot(X_test.T, X_test) + lambda_val * np.eye(X_test.shape[1])) \n",
    "    weight_reg_test = np.dot(np.dot(X_reg_pinv_test, X_test.T), y_test)\n",
    "    \n",
    "    # generating y values from the weights\n",
    "    y_pred_train_reg = np.dot(X_train, weight_reg_train)\n",
    "    y_pred_test_reg = np.dot(X_test, weight_reg_test)\n",
    "    \n",
    "    # computing SSR and MSR for training\n",
    "    SSR_train_reg = np.sum((y_train - y_pred_train_reg) ** 2)\n",
    "    MSR_train_reg = SSR_train_reg / (len(y_train))\n",
    "    \n",
    "    # computing SSR and MSR for testing\n",
    "    SSR_test_reg = np.sum((y_test - y_pred_test_reg) ** 2)\n",
    "    MSR_test_reg = SSR_test_reg / (len(y_test))\n",
    "    \n",
    "    # computing R-squared values\n",
    "    R2_train_reg = r_squared(y_train, y_pred_train_reg)\n",
    "    R2_test_reg = r_squared(y_test, y_pred_test_reg)\n",
    "    \n",
    "    return MSR_train_reg, MSR_test_reg, R2_train_reg, R2_test_reg"
   ]
  },
  {
   "cell_type": "code",
   "execution_count": 129,
   "id": "028544ad",
   "metadata": {},
   "outputs": [
    {
     "name": "stdout",
     "output_type": "stream",
     "text": [
      "\n",
      "Case 1: \n",
      "MSR Train: 0.004285869694921391, \n",
      "MSR Test: 0.027773510955230556, \n",
      "R-squared Train: 0.9999981579049236, \n",
      "R-squared Test: 0.9999826741680861\n",
      "\n",
      "Case 2: \n",
      "MSR Train: 0.000718140088185803, \n",
      "MSR Test: 0.0007063155994456374, \n",
      "R-squared Train: 0.9999996183026731, \n",
      "R-squared Test: 0.9999997188042986\n",
      "\n",
      "Case 3: \n",
      "MSR Train: 0.009844520890582518, \n",
      "MSR Test: 0.009789692077646761, \n",
      "R-squared Train: 0.9999947675566785, \n",
      "R-squared Test: 0.9999961025647283\n",
      "\n",
      "Case 4: \n",
      "MSR Train: 0.0014206402809210312, \n",
      "MSR Test: 0.00025047051091725087, \n",
      "R-squared Train: 0.9999992385432711, \n",
      "R-squared Test: 0.9999998901148855\n",
      "\n",
      "Case 5: \n",
      "MSR Train: 0.013155322708160343, \n",
      "MSR Test: 0.00419670111031729, \n",
      "R-squared Train: 0.9999929488068645, \n",
      "R-squared Test: 0.9999981588452056\n"
     ]
    }
   ],
   "source": [
    "results = []\n",
    "\n",
    "scenarios = [\n",
    "    ([1, 41], [41, 51], 0.83),\n",
    "    ([1, 26], [26, 51], 0.17),\n",
    "    ([1, 26], [26, 51], 0.83),\n",
    "    ([1, 11], [11, 51], 0.17),\n",
    "    ([1, 11], [11, 51], 0.83),\n",
    "]\n",
    "\n",
    "for scenario in scenarios:\n",
    "    results.append(computations(*scenario))\n",
    "\n",
    "# Print results\n",
    "for i, result in enumerate(results):\n",
    "    print(f\"\\nCase {i + 1}: \\nMSR Train: {result[0]}, \\nMSR Test: {result[1]}, \\nR-squared Train: {result[2]}, \\nR-squared Test: {result[3]}\")"
   ]
  }
 ],
 "metadata": {
  "kernelspec": {
   "display_name": "Python 3 (ipykernel)",
   "language": "python",
   "name": "python3"
  },
  "language_info": {
   "codemirror_mode": {
    "name": "ipython",
    "version": 3
   },
   "file_extension": ".py",
   "mimetype": "text/x-python",
   "name": "python",
   "nbconvert_exporter": "python",
   "pygments_lexer": "ipython3",
   "version": "3.12.4"
  }
 },
 "nbformat": 4,
 "nbformat_minor": 5
}
